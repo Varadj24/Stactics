{
 "cells": [
  {
   "cell_type": "markdown",
   "id": "489c1cd7-b96a-41b9-99e3-b39da0ca1e80",
   "metadata": {},
   "source": [
    "Q1. Write a Python function that takes in two arrays of data and calculates the F-value for a variance ratio \n",
    "test. The function should return the F-value and the corresponding p-value for the test."
   ]
  },
  {
   "cell_type": "code",
   "execution_count": 1,
   "id": "d1638842-0e12-47e9-9261-4d5e9c333c41",
   "metadata": {},
   "outputs": [
    {
     "name": "stdout",
     "output_type": "stream",
     "text": [
      "F-value: 1.0\n",
      "p-value: 0.5\n"
     ]
    }
   ],
   "source": [
    "import numpy as np\n",
    "import scipy.stats as stats\n",
    "\n",
    "def variance_ratio_test(array1, array2):\n",
    "    \"\"\"\n",
    "    Perform a variance ratio test (F-test) on two arrays of data.\n",
    "\n",
    "    Parameters:\n",
    "    - array1, array2: NumPy arrays or lists representing the two data samples.\n",
    "\n",
    "    Returns:\n",
    "    - F_value: The calculated F-value for the variance ratio test.\n",
    "    - p_value: The corresponding p-value.\n",
    "    \"\"\"\n",
    "\n",
    "    # Calculate the variance of each sample\n",
    "    var1 = np.var(array1, ddof=1)  # ddof=1 for sample variance\n",
    "    var2 = np.var(array2, ddof=1)\n",
    "\n",
    "    # Ensure the larger variance is in the numerator\n",
    "    if var1 < var2:\n",
    "        var1, var2 = var2, var1\n",
    "        array1, array2 = array2, array1\n",
    "\n",
    "    # Calculate the F-value\n",
    "    F_value = var1 / var2\n",
    "\n",
    "    # Degrees of freedom\n",
    "    df1 = len(array1) - 1\n",
    "    df2 = len(array2) - 1\n",
    "\n",
    "    # Calculate the p-value\n",
    "    p_value = 1 - stats.f.cdf(F_value, df1, df2)\n",
    "\n",
    "    return F_value, p_value\n",
    "\n",
    "# Example usage:\n",
    "data1 = [23, 27, 30, 25, 28]\n",
    "data2 = [18, 22, 25, 20, 23]\n",
    "\n",
    "F_value, p_value = variance_ratio_test(data1, data2)\n",
    "\n",
    "print(\"F-value:\", F_value)\n",
    "print(\"p-value:\", p_value)\n"
   ]
  },
  {
   "cell_type": "code",
   "execution_count": null,
   "id": "0a3069e1-7137-42a1-a091-4053f4817da0",
   "metadata": {},
   "outputs": [],
   "source": []
  },
  {
   "cell_type": "markdown",
   "id": "6129cc26-5f83-486c-8ef4-a48d7ec42f2c",
   "metadata": {},
   "source": [
    "Q2. Given a significance level of 0.05 and the degrees of freedom for the numerator and denominator of an \n",
    "F-distribution, write a Python function that returns the critical F-value for a two-tailed test."
   ]
  },
  {
   "cell_type": "code",
   "execution_count": 2,
   "id": "37f6d659-39bc-4d5d-806e-9e1451af2b1d",
   "metadata": {},
   "outputs": [
    {
     "name": "stdout",
     "output_type": "stream",
     "text": [
      "Critical F-value: 3.8586986662732143\n"
     ]
    }
   ],
   "source": [
    "import scipy.stats as stats\n",
    "\n",
    "def critical_f_value(alpha, df_num, df_denom):\n",
    "    \"\"\"\n",
    "    Calculate the critical F-value for a two-tailed test given a significance level and degrees of freedom.\n",
    "\n",
    "    Parameters:\n",
    "    - alpha: Significance level (e.g., 0.05 for a 5% significance level).\n",
    "    - df_num: Degrees of freedom for the numerator.\n",
    "    - df_denom: Degrees of freedom for the denominator.\n",
    "\n",
    "    Returns:\n",
    "    - crit_f_value: The critical F-value for the specified significance level and degrees of freedom.\n",
    "    \"\"\"\n",
    "\n",
    "    # Calculate the critical F-value\n",
    "    crit_f_value = stats.f.ppf(1 - alpha / 2, df_num, df_denom)\n",
    "\n",
    "    return crit_f_value\n",
    "\n",
    "# Example usage:\n",
    "significance_level = 0.05\n",
    "degrees_of_freedom_num = 3\n",
    "degrees_of_freedom_denom = 20\n",
    "\n",
    "crit_f_value = critical_f_value(significance_level, degrees_of_freedom_num, degrees_of_freedom_denom)\n",
    "\n",
    "print(\"Critical F-value:\", crit_f_value)\n"
   ]
  },
  {
   "cell_type": "code",
   "execution_count": null,
   "id": "8e946921-bcab-40d5-b3c3-18babf286782",
   "metadata": {},
   "outputs": [],
   "source": []
  },
  {
   "cell_type": "markdown",
   "id": "8aa9e78d-8b23-4e67-b3e5-5790abe58c9e",
   "metadata": {},
   "source": [
    "Q3. Write a Python program that generates random samples from two normal distributions with known \n",
    "variances and uses an F-test to determine if the variances are equal. The program should output the F\u0002value, degrees of freedom, and p-value for the test\n",
    "\n"
   ]
  },
  {
   "cell_type": "code",
   "execution_count": 3,
   "id": "d7836f67-6d2b-4048-9091-b18af5350679",
   "metadata": {},
   "outputs": [
    {
     "name": "stdout",
     "output_type": "stream",
     "text": [
      "F-value: 2.3107415179099107\n",
      "Degrees of Freedom (Between): 29\n",
      "Degrees of Freedom (Within): 24\n",
      "p-value: 0.03957441050051891\n"
     ]
    }
   ],
   "source": [
    "import numpy as np\n",
    "import scipy.stats as stats\n",
    "\n",
    "def f_test_for_equal_variances(sample_size1, sample_size2, variance1, variance2, significance_level=0.05):\n",
    "    \"\"\"\n",
    "    Perform an F-test for equal variances on two normal distributions.\n",
    "\n",
    "    Parameters:\n",
    "    - sample_size1, sample_size2: Sizes of the two random samples.\n",
    "    - variance1, variance2: Variances of the two normal distributions.\n",
    "    - significance_level: Significance level for the two-tailed test (default is 0.05).\n",
    "\n",
    "    Returns:\n",
    "    - F_value: The calculated F-value for the test.\n",
    "    - df_between: Degrees of freedom for the numerator.\n",
    "    - df_within: Degrees of freedom for the denominator.\n",
    "    - p_value: The corresponding p-value.\n",
    "    \"\"\"\n",
    "\n",
    "    # Generate random samples\n",
    "    sample1 = np.random.normal(loc=0, scale=np.sqrt(variance1), size=sample_size1)\n",
    "    sample2 = np.random.normal(loc=0, scale=np.sqrt(variance2), size=sample_size2)\n",
    "\n",
    "    # Calculate variances\n",
    "    var1 = np.var(sample1, ddof=1)\n",
    "    var2 = np.var(sample2, ddof=1)\n",
    "\n",
    "    # Ensure the larger variance is in the numerator\n",
    "    if var1 < var2:\n",
    "        var1, var2 = var2, var1\n",
    "        sample1, sample2 = sample2, sample1\n",
    "\n",
    "    # Calculate F-value\n",
    "    F_value = var1 / var2\n",
    "\n",
    "    # Degrees of freedom\n",
    "    df_between = sample_size1 - 1\n",
    "    df_within = sample_size2 - 1\n",
    "\n",
    "    # Calculate p-value\n",
    "    p_value = 2 * (1 - stats.f.cdf(F_value, df_between, df_within))\n",
    "\n",
    "    return F_value, df_between, df_within, p_value\n",
    "\n",
    "# Example usage:\n",
    "sample_size1 = 30\n",
    "sample_size2 = 25\n",
    "variance1 = 4\n",
    "variance2 = 9\n",
    "\n",
    "F_value, df_between, df_within, p_value = f_test_for_equal_variances(sample_size1, sample_size2, variance1, variance2)\n",
    "\n",
    "print(\"F-value:\", F_value)\n",
    "print(\"Degrees of Freedom (Between):\", df_between)\n",
    "print(\"Degrees of Freedom (Within):\", df_within)\n",
    "print(\"p-value:\", p_value)\n"
   ]
  },
  {
   "cell_type": "code",
   "execution_count": null,
   "id": "c27f92b6-04a7-4a6e-b1d7-246ee98c05a3",
   "metadata": {},
   "outputs": [],
   "source": []
  },
  {
   "cell_type": "markdown",
   "id": "c0d04f7c-96bd-4f51-9cc4-4d2f39c6175a",
   "metadata": {},
   "source": [
    "Q4.The variances of two populations are known to be 10 and 15. A sample of 12 observations is taken from \n",
    "each population. Conduct an F-test at the 5% significance level to determine if the variances are \n",
    "significantly different."
   ]
  },
  {
   "cell_type": "code",
   "execution_count": 4,
   "id": "4dd9c2fc-0d90-42f4-b5e7-7c2bf3e0b3a2",
   "metadata": {},
   "outputs": [
    {
     "name": "stdout",
     "output_type": "stream",
     "text": [
      "F-statistic: 0.6666666666666666\n",
      "Degrees of Freedom (Between): 11\n",
      "Degrees of Freedom (Within): 11\n",
      "p-value: 1.4876102012642005\n",
      "\n",
      "Fail to reject the null hypothesis. There is no significant difference in variances.\n"
     ]
    }
   ],
   "source": [
    "import scipy.stats as stats\n",
    "\n",
    "# Given information\n",
    "variance1 = 10\n",
    "variance2 = 15\n",
    "sample_size1 = 12\n",
    "sample_size2 = 12\n",
    "significance_level = 0.05\n",
    "\n",
    "# Degrees of freedom\n",
    "df1 = sample_size1 - 1\n",
    "df2 = sample_size2 - 1\n",
    "\n",
    "# Calculate F-statistic\n",
    "F_statistic = variance1 / variance2\n",
    "\n",
    "# Calculate p-value\n",
    "p_value = 2 * (1 - stats.f.cdf(F_statistic, df1, df2))\n",
    "\n",
    "# Print results\n",
    "print(\"F-statistic:\", F_statistic)\n",
    "print(\"Degrees of Freedom (Between):\", df1)\n",
    "print(\"Degrees of Freedom (Within):\", df2)\n",
    "print(\"p-value:\", p_value)\n",
    "\n",
    "# Interpret the results\n",
    "if p_value < significance_level:\n",
    "    print(\"\\nReject the null hypothesis. The variances are significantly different.\")\n",
    "else:\n",
    "    print(\"\\nFail to reject the null hypothesis. There is no significant difference in variances.\")\n"
   ]
  },
  {
   "cell_type": "code",
   "execution_count": null,
   "id": "0337a565-734a-411d-8139-3360e7e8af25",
   "metadata": {},
   "outputs": [],
   "source": []
  },
  {
   "cell_type": "markdown",
   "id": "42ffcb6e-02ca-4cac-bce9-a26c64c3b6c6",
   "metadata": {},
   "source": [
    "Q5. A manufacturer claims that the variance of the diameter of a certain product is 0.005. A sample of 25 \n",
    "products is taken, and the sample variance is found to be 0.006. Conduct an F-test at the 1% significance \n",
    "level to determine if the claim is justified.\n",
    "\n"
   ]
  },
  {
   "cell_type": "code",
   "execution_count": 5,
   "id": "9df4d876-fce9-4d06-955a-5a6d05940608",
   "metadata": {},
   "outputs": [
    {
     "name": "stdout",
     "output_type": "stream",
     "text": [
      "F-statistic: 1.2\n",
      "Degrees of Freedom (Between): 24\n",
      "Degrees of Freedom (Within): 1\n",
      "p-value: 0.6296099619959358\n",
      "\n",
      "Fail to reject the null hypothesis. The claim about the variance is justified.\n"
     ]
    }
   ],
   "source": [
    "import scipy.stats as stats\n",
    "\n",
    "# Given information\n",
    "claimed_variance = 0.005\n",
    "sample_variance = 0.006\n",
    "sample_size = 25\n",
    "significance_level = 0.01\n",
    "\n",
    "# Degrees of freedom\n",
    "df1 = sample_size - 1\n",
    "df2 = 1  # Degrees of freedom for the numerator\n",
    "\n",
    "# Calculate F-statistic\n",
    "F_statistic = sample_variance / claimed_variance\n",
    "\n",
    "# Calculate p-value\n",
    "p_value = 1 - stats.f.cdf(F_statistic, df1, df2)\n",
    "\n",
    "# Print results\n",
    "print(\"F-statistic:\", F_statistic)\n",
    "print(\"Degrees of Freedom (Between):\", df1)\n",
    "print(\"Degrees of Freedom (Within):\", df2)\n",
    "print(\"p-value:\", p_value)\n",
    "\n",
    "# Interpret the results\n",
    "if p_value < significance_level:\n",
    "    print(\"\\nReject the null hypothesis. The claim about the variance is not justified.\")\n",
    "else:\n",
    "    print(\"\\nFail to reject the null hypothesis. The claim about the variance is justified.\")\n"
   ]
  },
  {
   "cell_type": "code",
   "execution_count": null,
   "id": "4eae7840-9a35-4139-bae4-1762f177f090",
   "metadata": {},
   "outputs": [],
   "source": []
  },
  {
   "cell_type": "markdown",
   "id": "bb283b66-dfb9-4b15-91a3-11c2a2a6f3ef",
   "metadata": {},
   "source": [
    "Q6. Write a Python function that takes in the degrees of freedom for the numerator and denominator of an \n",
    "F-distribution and calculates the mean and variance of the distribution. The function should return the \n",
    "mean and variance as a tuple.\n",
    "\n"
   ]
  },
  {
   "cell_type": "code",
   "execution_count": 6,
   "id": "dd4fb280-351a-4ea4-864a-059dd398e771",
   "metadata": {},
   "outputs": [
    {
     "name": "stdout",
     "output_type": "stream",
     "text": [
      "Mean of F-distribution: 1.1111111111111112\n",
      "Variance of F-distribution: 1.0802469135802468\n"
     ]
    }
   ],
   "source": [
    "def f_distribution_mean_and_variance(df_num, df_den):\n",
    "    \"\"\"\n",
    "    Calculate the mean and variance of an F-distribution.\n",
    "\n",
    "    Parameters:\n",
    "    - df_num: Degrees of freedom for the numerator.\n",
    "    - df_den: Degrees of freedom for the denominator.\n",
    "\n",
    "    Returns:\n",
    "    - mean: Mean of the F-distribution.\n",
    "    - variance: Variance of the F-distribution.\n",
    "    \"\"\"\n",
    "\n",
    "    # Ensure degrees of freedom are positive\n",
    "    if df_num <= 0 or df_den <= 0:\n",
    "        raise ValueError(\"Degrees of freedom must be greater than zero.\")\n",
    "\n",
    "    # Calculate mean and variance\n",
    "    mean = df_den / (df_den - 2)\n",
    "    variance = (2 * (df_den ** 2) * (df_num + df_den - 2)) / (df_num * (df_den - 2) ** 2 * (df_den - 4))\n",
    "\n",
    "    return mean, variance\n",
    "\n",
    "# Example usage:\n",
    "df_num_example = 3\n",
    "df_den_example = 20\n",
    "\n",
    "mean, variance = f_distribution_mean_and_variance(df_num_example, df_den_example)\n",
    "\n",
    "print(\"Mean of F-distribution:\", mean)\n",
    "print(\"Variance of F-distribution:\", variance)\n"
   ]
  },
  {
   "cell_type": "code",
   "execution_count": null,
   "id": "81e41237-9ca5-4e27-9ed2-ffe55c6dfb16",
   "metadata": {},
   "outputs": [],
   "source": []
  },
  {
   "cell_type": "markdown",
   "id": "e3c36fe6-2918-43ec-a6b2-3f07b944173d",
   "metadata": {},
   "source": [
    "Q7. A random sample of 10 measurements is taken from a normal population with unknown variance. The \n",
    "sample variance is found to be 25. Another random sample of 15 measurements is taken from another \n",
    "normal population with unknown variance, and the sample variance is found to be 20. Conduct an F-test \n",
    "at the 10% significance level to determine if the variances are significantly different.\n"
   ]
  },
  {
   "cell_type": "code",
   "execution_count": 7,
   "id": "ba4de8ab-be31-4b64-b455-6c8fd7d3a8ea",
   "metadata": {},
   "outputs": [
    {
     "name": "stdout",
     "output_type": "stream",
     "text": [
      "F-statistic: 1.25\n",
      "Degrees of Freedom (Between): 9\n",
      "Degrees of Freedom (Within): 14\n",
      "p-value: 0.6832194382585954\n",
      "\n",
      "Fail to reject the null hypothesis. There is no significant difference in variances.\n"
     ]
    }
   ],
   "source": [
    "import scipy.stats as stats\n",
    "\n",
    "# Given information\n",
    "sample_variance1 = 25\n",
    "sample_size1 = 10\n",
    "\n",
    "sample_variance2 = 20\n",
    "sample_size2 = 15\n",
    "\n",
    "significance_level = 0.10\n",
    "\n",
    "# Degrees of freedom\n",
    "df1 = sample_size1 - 1\n",
    "df2 = sample_size2 - 1\n",
    "\n",
    "# Calculate F-statistic\n",
    "F_statistic = sample_variance1 / sample_variance2\n",
    "\n",
    "# Calculate p-value\n",
    "p_value = 2 * min(stats.f.cdf(F_statistic, df1, df2), 1 - stats.f.cdf(F_statistic, df1, df2))\n",
    "\n",
    "# Print results\n",
    "print(\"F-statistic:\", F_statistic)\n",
    "print(\"Degrees of Freedom (Between):\", df1)\n",
    "print(\"Degrees of Freedom (Within):\", df2)\n",
    "print(\"p-value:\", p_value)\n",
    "\n",
    "# Interpret the results\n",
    "if p_value < significance_level:\n",
    "    print(\"\\nReject the null hypothesis. The variances are significantly different.\")\n",
    "else:\n",
    "    print(\"\\nFail to reject the null hypothesis. There is no significant difference in variances.\")\n"
   ]
  },
  {
   "cell_type": "code",
   "execution_count": null,
   "id": "459b2cdd-5ea1-4b25-9fe6-19002e23783f",
   "metadata": {},
   "outputs": [],
   "source": []
  },
  {
   "cell_type": "code",
   "execution_count": null,
   "id": "0660b56d-673e-47d3-a320-9ffce5ed1f73",
   "metadata": {},
   "outputs": [],
   "source": []
  }
 ],
 "metadata": {
  "kernelspec": {
   "display_name": "Python 3 (ipykernel)",
   "language": "python",
   "name": "python3"
  },
  "language_info": {
   "codemirror_mode": {
    "name": "ipython",
    "version": 3
   },
   "file_extension": ".py",
   "mimetype": "text/x-python",
   "name": "python",
   "nbconvert_exporter": "python",
   "pygments_lexer": "ipython3",
   "version": "3.10.8"
  }
 },
 "nbformat": 4,
 "nbformat_minor": 5
}
