{
 "cells": [
  {
   "cell_type": "markdown",
   "id": "9c919abd-d18d-4bb6-a3b2-ab8f9e95c237",
   "metadata": {},
   "source": [
    "Q1. What is the Probability density function?\n",
    " \n",
    " \n",
    " The Probability Density Function (PDF) is a concept in probability theory and statistics that describes the likelihood of a continuous random variable taking on a particular value. \n",
    "In simpler terms, it represents the probability of a random variable falling within a specific range."
   ]
  },
  {
   "cell_type": "markdown",
   "id": "3a689771-4057-406e-bd43-1ef227760cde",
   "metadata": {},
   "source": [
    "Q2. What are the types of Probability distribution?\n",
    "\n",
    "1.Discrete Probability Distributions\n",
    "\n",
    "\n",
    "2.Continuous Probability Distributions\n",
    "\n",
    "\n",
    "3.Multinomial Distribution\n",
    "\n",
    "\n",
    "4.Hypergeometric Distribution\n",
    "\n",
    "\n",
    "5.Geometric Distribution"
   ]
  },
  {
   "cell_type": "markdown",
   "id": "055b4757-76ae-4f6e-975b-22163a92b05f",
   "metadata": {},
   "source": [
    "Q3. Write a Python function to calculate the probability density function of a normal distribution with \n",
    "given mean and standard deviation at a given point"
   ]
  },
  {
   "cell_type": "code",
   "execution_count": 1,
   "id": "fc0f5ee6-eacb-442a-ae29-a7f91cfeb948",
   "metadata": {},
   "outputs": [
    {
     "name": "stdout",
     "output_type": "stream",
     "text": [
      "The PDF at x = 1.5 is 0.12951759566589174\n"
     ]
    }
   ],
   "source": [
    "import math\n",
    "\n",
    "def normal_pdf(x, mean, std_dev):\n",
    "    coefficient = 1 / (math.sqrt(2 * math.pi) * std_dev)\n",
    "    exponent_term = math.exp(-(pow(x - mean, 2) / (2 * pow(std_dev, 2))))\n",
    "    \n",
    "    pdf_value = coefficient * exponent_term\n",
    "    return pdf_value\n",
    "\n",
    "mean_value = 0\n",
    "std_dev_value = 1\n",
    "point = 1.5\n",
    "\n",
    "\n",
    "pdf_at_point = normal_pdf(point, mean_value, std_dev_value)\n",
    "print(f\"The PDF at x = {point} is {pdf_at_point}\")"
   ]
  },
  {
   "cell_type": "code",
   "execution_count": null,
   "id": "4d9f8701-eb66-4266-8266-9aaea39a4b74",
   "metadata": {},
   "outputs": [],
   "source": []
  },
  {
   "cell_type": "markdown",
   "id": "335cd077-ca79-4780-b2ef-089c4b22c0c7",
   "metadata": {},
   "source": [
    "Q4. What are the properties of Binomial distribution? Give two examples of events where binomial \n",
    "distribution can be applied."
   ]
  },
  {
   "cell_type": "markdown",
   "id": "ee44428c-9630-48bd-830f-3f4dd8f9f64f",
   "metadata": {},
   "source": [
    "The binomial distribution is a discrete probability distribution that models the number of successes in a fixed number of independent and identical Bernoulli trials, where each trial has only two possible outcomes (usually labeled as success and failure). The key properties of the binomial distribution include:\n",
    "\n",
    "Fixed Number of Trials (n): The number of trials, denoted as \n",
    "�\n",
    "n, is fixed in advance.\n",
    "\n",
    "Two Possible Outcomes: Each trial results in one of two outcomes, often labeled as success (S) or failure (F).\n",
    "\n",
    "Independent Trials: The outcomes of each trial are independent of each other.\n",
    "\n",
    "Constant Probability of Success (p): The probability of success (denoted as \n",
    "�\n",
    "p) remains constant for each trial.\n",
    "\n",
    "Discrete Nature: The random variable representing the number of successes is discrete, taking on values from 0 to \n",
    "�\n",
    "n."
   ]
  },
  {
   "cell_type": "code",
   "execution_count": null,
   "id": "b57676f8-79b2-4b1f-8566-7c5fdbbe2b49",
   "metadata": {},
   "outputs": [],
   "source": []
  },
  {
   "cell_type": "markdown",
   "id": "b74aacc6-4d9c-4144-aba2-29f9d38b9383",
   "metadata": {},
   "source": [
    "Q5. Generate a random sample of size 1000 from a binomial distribution with probability of success 0.4 \n",
    "and plot a histogram of the results using matplotlib."
   ]
  },
  {
   "cell_type": "code",
   "execution_count": 3,
   "id": "a5ed6ac2-fd33-4aa9-a2aa-17af5790d69f",
   "metadata": {},
   "outputs": [],
   "source": [
    "import numpy as np\n",
    "import matplotlib.pyplot as plt\n",
    "np.random.seed(42)"
   ]
  },
  {
   "cell_type": "code",
   "execution_count": 4,
   "id": "4ac8c864-0853-429e-9d1c-6aa3766789d6",
   "metadata": {},
   "outputs": [],
   "source": [
    "sample_size = 1000\n",
    "probability_of_success = 0.4\n",
    "binomial_sample = np.random.binomial(1, probability_of_success, size=sample_size)"
   ]
  },
  {
   "cell_type": "code",
   "execution_count": 5,
   "id": "ef6cb6bd-8767-4335-ace2-6fa0e24f7361",
   "metadata": {},
   "outputs": [
    {
     "data": {
      "image/png": "[encoded data removed]",
      "text/plain": [
       "<Figure size 640x480 with 1 Axes>"
      ]
     },
     "metadata": {},
     "output_type": "display_data"
    }
   ],
   "source": [
    "plt.hist(binomial_sample, bins=[-0.5, 0.5, 1.5], edgecolor='black')\n",
    "plt.title(f'Binomial Distribution (n=1, p={probability_of_success}) - Random Sample of Size {sample_size}')\n",
    "plt.xlabel('Outcome (0: Failure, 1: Success)')\n",
    "plt.ylabel('Frequency')\n",
    "plt.show()"
   ]
  },
  {
   "cell_type": "code",
   "execution_count": null,
   "id": "c47f5bcb-020c-4485-947a-b001aa70467c",
   "metadata": {},
   "outputs": [],
   "source": []
  },
  {
   "cell_type": "markdown",
   "id": "955ed222-2efa-4d5c-952b-c6d6fc12172f",
   "metadata": {},
   "source": [
    "Q6. Write a Python function to calculate the cumulative distribution function of a Poisson distribution \n",
    "with given mean at a given point."
   ]
  },
  {
   "cell_type": "code",
   "execution_count": 6,
   "id": "e9d56c38-21f4-4547-a767-46f929703b9d",
   "metadata": {},
   "outputs": [
    {
     "name": "stdout",
     "output_type": "stream",
     "text": [
      "The CDF at x = 3 is 0.7575761331330659\n"
     ]
    }
   ],
   "source": [
    "import math\n",
    "\n",
    "def poisson_cdf(x, mean):\n",
    "    cdf_value = 0.0\n",
    "    for k in range(0, x + 1):\n",
    "        cdf_value += (math.exp(-mean) * mean**k) / math.factorial(k)\n",
    "        \n",
    "    return cdf_value\n",
    "\n",
    "mean_value = 2.5\n",
    "point = 3\n",
    "\n",
    "\n",
    "cdf_at_point = poisson_cdf(point, mean_value)\n",
    "print(f\"The CDF at x = {point} is {cdf_at_point}\")        "
   ]
  },
  {
   "cell_type": "code",
   "execution_count": null,
   "id": "9554732d-6651-4a1b-8d0f-1184b17e5858",
   "metadata": {},
   "outputs": [],
   "source": []
  },
  {
   "cell_type": "markdown",
   "id": "89f42ab3-b5cf-4815-9fed-d9f1f0fbd362",
   "metadata": {},
   "source": [
    "Q7. How Binomial distribution different from Poisson distribution?"
   ]
  },
  {
   "cell_type": "markdown",
   "id": "8531d8a1-675f-41d5-b854-46089c40e0fd",
   "metadata": {},
   "source": [
    "The Binomial distribution and the Poisson distribution are both probability distributions, but they differ in their underlying assumptions, characteristics, and use cases. Here are the key differences between the Binomial and Poisson distributions:\n",
    "\n",
    "Nature of Events:\n",
    "\n",
    "Binomial Distribution: Describes the number of successes in a fixed number of independent and identical Bernoulli trials, where each trial has only two possible outcomes (success or failure).\n",
    "Poisson Distribution: Models the number of events that occur in a fixed interval of time or space, where events happen with a known constant rate, and the occurrences are independent.\n",
    "Number of Trials:\n",
    "\n",
    "Binomial Distribution: Requires a fixed number of trials (denoted as \n",
    "�\n",
    "n) to be specified in advance.\n",
    "Poisson Distribution: Does not have a fixed number of trials; it is used to model events in a continuous process with a known rate.\n",
    "Outcomes:\n",
    "\n",
    "Binomial Distribution: The random variable represents the number of successes, and the outcomes are discrete values from 0 to \n",
    "�\n",
    "n.\n",
    "Poisson Distribution: The random variable represents the number of events occurring in a continuous interval, and the outcomes are discrete non-negative integers (0, 1, 2, ...).\n",
    "Assumption about Probability of Success:\n",
    "\n",
    "Binomial Distribution: Assumes a constant probability of success (\n",
    "�\n",
    "p) for each trial.\n",
    "Poisson Distribution: Does not assume a constant probability of success; instead, it assumes a constant rate of events (\n",
    "�\n",
    "λ).\n",
    "Use Cases:\n",
    "\n",
    "Binomial Distribution: Appropriate for situations involving a fixed number of trials with two possible outcomes, such as coin flips or product inspections.\n",
    "Poisson Distribution: Used to model the number of rare events in a continuous process, such as the number of phone calls received at a call center in a given hour or the number of emails arriving in an inbox.\n",
    "Mean and Variance:\n",
    "\n",
    "Binomial Distribution: The mean (\n",
    "�\n",
    "μ) and variance (\n",
    "�\n",
    "2\n",
    "σ \n",
    "2\n",
    " ) are both equal to \n",
    "�\n",
    "�\n",
    "np, where \n",
    "�\n",
    "n is the number of trials and \n",
    "�\n",
    "p is the probability of success.\n",
    "Poisson Distribution: The mean (\n",
    "�\n",
    "λ) and variance (\n",
    "�\n",
    "λ) are both equal to the rate parameter \n",
    "�\n",
    "λ."
   ]
  },
  {
   "cell_type": "code",
   "execution_count": null,
   "id": "1b158288-0283-49f6-8ae9-68a87ad07edb",
   "metadata": {},
   "outputs": [],
   "source": []
  },
  {
   "cell_type": "markdown",
   "id": "1258b05e-c058-4e9f-90ac-0c01467a1c43",
   "metadata": {},
   "source": [
    "Q8. Generate a random sample of size 1000 from a Poisson distribution with mean 5 and calculate the \n",
    "sample mean and variance."
   ]
  },
  {
   "cell_type": "code",
   "execution_count": 7,
   "id": "719ddf22-2d10-425b-bd7d-068a8344a5ad",
   "metadata": {},
   "outputs": [],
   "source": [
    "import numpy as np\n",
    "np.random.seed(40)"
   ]
  },
  {
   "cell_type": "code",
   "execution_count": 10,
   "id": "2fb150d7-13f1-4e04-8ae4-fc28e50c686d",
   "metadata": {},
   "outputs": [
    {
     "name": "stdout",
     "output_type": "stream",
     "text": [
      "Sample Mean: 5.07\n",
      "Sample Variance: 5.204304304304305\n"
     ]
    }
   ],
   "source": [
    "sample_size = 1000\n",
    "poisson_sample = np.random.poisson(lam=5 , size=sample_size)\n",
    "\n",
    "sample_mean = np.mean(poisson_sample)\n",
    "sample_variance = np.var(poisson_sample, ddof=1)\n",
    "\n",
    "\n",
    "print(f\"Sample Mean: {sample_mean}\")\n",
    "print(f\"Sample Variance: {sample_variance}\")"
   ]
  },
  {
   "cell_type": "code",
   "execution_count": null,
   "id": "926630ef-84f0-49ce-a1c5-2d49dcdb9120",
   "metadata": {},
   "outputs": [],
   "source": []
  },
  {
   "cell_type": "markdown",
   "id": "73aff1a3-b78a-46dc-bb58-8e2ac41a51d5",
   "metadata": {},
   "source": [
    "Q9. How mean and variance are related in Binomial distribution and Poisson distribution?"
   ]
  },
  {
   "cell_type": "markdown",
   "id": "f9c74f90-dc3b-4bea-9a8c-22f186d7b6cd",
   "metadata": {},
   "source": [
    "Binomial Distribution:\n",
    "For a Binomial distribution with parameters \n",
    "�\n",
    "n (number of trials) and \n",
    "�\n",
    "p (probability of success on each trial):\n",
    "\n",
    "Mean (\n",
    "�\n",
    "μ): The mean is given by \n",
    "�\n",
    "=\n",
    "�\n",
    "�\n",
    "μ=np, where \n",
    "�\n",
    "n is the number of trials and \n",
    "�\n",
    "p is the probability of success on each trial.\n",
    "\n",
    "Variance (\n",
    "�\n",
    "2\n",
    "σ \n",
    "2\n",
    " ): The variance is given by \n",
    "�\n",
    "2\n",
    "=\n",
    "�\n",
    "�\n",
    "(\n",
    "1\n",
    "−\n",
    "�\n",
    ")\n",
    "σ \n",
    "2\n",
    " =np(1−p).\n",
    "\n",
    "So, in the Binomial distribution, the variance is directly related to both the number of trials (\n",
    "�\n",
    "n) and the probability of success (\n",
    "�\n",
    "p).\n",
    "\n",
    "Poisson Distribution:\n",
    "For a Poisson distribution with parameter \n",
    "�\n",
    "λ (average rate of events per unit time or space):\n",
    "\n",
    "Mean (\n",
    "�\n",
    "μ): The mean is given by \n",
    "�\n",
    "=\n",
    "�\n",
    "μ=λ.\n",
    "\n",
    "Variance (\n",
    "�\n",
    "2\n",
    "σ \n",
    "2\n",
    " ): The variance is also given by \n",
    "�\n",
    "2\n",
    "=\n",
    "�\n",
    "σ \n",
    "2\n",
    " =λ.\n",
    "\n",
    "In the Poisson distribution, the mean and variance are equal, and they are both determined by the rate parameter \n",
    "�\n",
    "λ."
   ]
  },
  {
   "cell_type": "code",
   "execution_count": null,
   "id": "4694c3a2-0970-4248-a71a-94c2b45666af",
   "metadata": {},
   "outputs": [],
   "source": []
  },
  {
   "cell_type": "markdown",
   "id": "4e9a5f9c-f309-42d2-8539-2ccf77fffca7",
   "metadata": {},
   "source": [
    "Q10. In normal distribution with respect to mean position, where does the least frequent data appear?"
   ]
  },
  {
   "cell_type": "markdown",
   "id": "304dc688-ed1e-44a7-9087-d73ce5d81283",
   "metadata": {},
   "source": [
    "In a normal distribution, also known as a Gaussian distribution or bell curve, the least frequent data points appear in the tails of the distribution, farthest from the mean. The normal distribution is symmetric, and its shape is characterized by a bell-shaped curve.\n",
    "\n",
    "Here's how the frequency of data points relates to their position with respect to the mean in a normal distribution:\n",
    "\n",
    "Central Peak (Mean): The highest frequency of data points is at the mean (\n",
    "�\n",
    "μ), which is the center of the distribution.\n",
    "\n",
    "Decreasing Frequency towards Tails: As you move away from the mean in either direction towards the tails of the distribution, the frequency of data points decreases.\n",
    "\n",
    "Least Frequent Data: The least frequent data points are found in the extreme tails, both on the left (lower values) and the right (higher values) sides of the distribution.\n",
    "\n",
    "The tails of a normal distribution extend infinitely, but the vast majority of data points (about 68% in one standard deviation, 95% in two standard deviations, and 99.7% in three standard deviations) are concentrated within a few standard deviations from the mean. Beyond these standard deviations, the frequency of data points rapidly decreases."
   ]
  },
  {
   "cell_type": "code",
   "execution_count": null,
   "id": "aeaf178f-b4fa-41f0-8a1e-49bc5dbc0a5c",
   "metadata": {},
   "outputs": [],
   "source": []
  }
 ],
 "metadata": {
  "kernelspec": {
   "display_name": "Python 3 (ipykernel)",
   "language": "python",
   "name": "python3"
  },
  "language_info": {
   "codemirror_mode": {
    "name": "ipython",
    "version": 3
   },
   "file_extension": ".py",
   "mimetype": "text/x-python",
   "name": "python",
   "nbconvert_exporter": "python",
   "pygments_lexer": "ipython3",
   "version": "3.10.8"
  }
 },
 "nbformat": 4,
 "nbformat_minor": 5
}
