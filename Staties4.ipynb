{
 "cells": [
  {
   "cell_type": "markdown",
   "id": "54b56b5d-7100-4d41-bbd2-41e56eaa6329",
   "metadata": {},
   "source": [
    "Q1: What is the difference between a t-test and a z-test? Provide an example scenario where you would \n",
    "use each type of test\n",
    "\n"
   ]
  },
  {
   "cell_type": "markdown",
   "id": "d5172273-40d5-4137-bad5-565a597a1aca",
   "metadata": {},
   "source": [
    "A1: Both t-tests and z-tests are statistical methods used to analyze data and make inferences about populations. The key difference lies in the type of data and the assumptions made about the population.\n",
    "\n",
    "**T-test:**\n",
    "- **Use case:** T-tests are generally used when the sample size is small (typically less than 30) or when the population standard deviation is unknown.\n",
    "- **Example scenario:** Suppose you want to compare the mean scores of two groups of students (Group A and Group B) who received different teaching methods. You collect a sample of 20 students from each group and measure their test scores. To determine if there is a significant difference in the means, you would use a t-test.\n",
    "\n",
    "**Z-test:**\n",
    "- **Use case:** Z-tests are appropriate when the sample size is large, and the population standard deviation is known.\n",
    "- **Example scenario:** Imagine you have a dataset of 2000 exam scores from a population with a known standard deviation. You want to test if the average score of this population is significantly different from a given value. In this case, a z-test would be suitable due to the large sample size and known population standard deviation.\n",
    "\n",
    "In summary, use a t-test when dealing with small sample sizes or unknown population standard deviations, and opt for a z-test when working with large sample sizes and known population standard deviations."
   ]
  },
  {
   "cell_type": "code",
   "execution_count": null,
   "id": "07ea4d02-e76e-43a6-85c4-6bb5f9f12b5c",
   "metadata": {},
   "outputs": [],
   "source": []
  },
  {
   "cell_type": "markdown",
   "id": "5372a926-0e0a-4950-94fe-60d00309af0c",
   "metadata": {},
   "source": [
    "Q2: Differentiate between one-tailed and two-tailed tests"
   ]
  },
  {
   "cell_type": "markdown",
   "id": "16011c8b-2268-4a7a-abd5-f248d51c4382",
   "metadata": {},
   "source": [
    "A2: The distinction between one-tailed and two-tailed tests pertains to the directionality of the statistical hypothesis and the area considered for the critical region.\n",
    "\n",
    "**One-Tailed Test:**\n",
    "- Also known as a directional or one-sided test.\n",
    "- Involves testing a hypothesis about the direction of an effect (greater than or less than).\n",
    "- The critical region is on only one side of the distribution (either the right or left).\n",
    "- Used when researchers are interested in detecting an effect in a specific direction.\n",
    "\n",
    "**Example of a One-Tailed Test:**\n",
    "   - Hypothesis: The new drug increases reaction time.\n",
    "   - Null hypothesis (H0): The new drug has no effect on reaction time.\n",
    "   - Alternative hypothesis (H1): The new drug increases reaction time.\n",
    "   - Critical region: Only the upper (right) tail of the distribution is considered.\n",
    "\n",
    "**Two-Tailed Test:**\n",
    "- Also known as a non-directional or two-sided test.\n",
    "- Involves testing a hypothesis without specifying the direction of the effect.\n",
    "- The critical region is on both sides of the distribution (both right and left).\n",
    "- Used when researchers want to detect whether there is a significant difference in any direction.\n",
    "\n",
    "**Example of a Two-Tailed Test:**\n",
    "   - Hypothesis: The average scores of two groups are different.\n",
    "   - Null hypothesis (H0): The average scores of the two groups are equal.\n",
    "   - Alternative hypothesis (H1): The average scores of the two groups are different.\n",
    "   - Critical region: Both the upper (right) and lower (left) tails of the distribution are considered.\n",
    "\n",
    "In summary, the choice between a one-tailed and a two-tailed test depends on the research question and the directionality of the effect under investigation. One-tailed tests are used when there is a specific hypothesis about the direction of the effect, while two-tailed tests are more appropriate when researchers are interested in any significant difference, regardless of the direction."
   ]
  },
  {
   "cell_type": "code",
   "execution_count": null,
   "id": "390de2df-8385-4c42-a184-5c7c544164ed",
   "metadata": {},
   "outputs": [],
   "source": []
  },
  {
   "cell_type": "markdown",
   "id": "8adcde3f-2940-4bdf-b9ad-68f6573e7363",
   "metadata": {},
   "source": [
    "Q3: Explain the concept of Type 1 and Type 2 errors in hypothesis testing. Provide an example scenario for \n",
    "each type of error\n",
    "\n"
   ]
  },
  {
   "cell_type": "markdown",
   "id": "489e28d0-660a-4ffa-9080-dd9d8343b45b",
   "metadata": {},
   "source": [
    "**Type I and Type II errors** are two types of errors that can occur in hypothesis testing:\n",
    "\n",
    "1. **Type I Error (False Positive):**\n",
    "   - **Definition:** Occurs when you reject a true null hypothesis. In other words, you conclude that there is a significant effect when there isn't one.\n",
    "   - **Probability:** Denoted by α (alpha), the significance level, which is the probability of making a Type I error.\n",
    "   - **Example Scenario:** Suppose a pharmaceutical company is testing a new drug, and the null hypothesis (H0) is that the drug has no side effects. If the researchers set a significance level of 0.05 and, based on the sample data, they reject the null hypothesis, concluding that the drug has side effects when it actually doesn't, this is a Type I error.\n",
    "\n",
    "2. **Type II Error (False Negative):**\n",
    "   - **Definition:** Occurs when you fail to reject a false null hypothesis. In other words, you conclude that there is no significant effect when there is one.\n",
    "   - **Probability:** Denoted by β (beta), the probability of making a Type II error.\n",
    "   - **Example Scenario:** Consider the same pharmaceutical company testing a new drug. The null hypothesis (H0) is that the drug has no side effects, but in reality, it does. If the researchers fail to reject the null hypothesis based on their sample data, concluding that the drug has no side effects when it actually does, this is a Type II error.\n",
    "\n",
    "In summary:\n",
    "- **Type I Error (α):** Incorrectly rejecting a true null hypothesis (false positive).\n",
    "- **Type II Error (β):** Incorrectly failing to reject a false null hypothesis (false negative).\n",
    "\n",
    "The balance between Type I and Type II errors is controlled by adjusting the significance level (α) and the power of the test (1-β). Researchers must consider the trade-off between these errors based on the consequences and priorities of the specific study."
   ]
  },
  {
   "cell_type": "code",
   "execution_count": null,
   "id": "9f875501-f591-41fd-b635-617eafbcf959",
   "metadata": {},
   "outputs": [],
   "source": []
  },
  {
   "cell_type": "markdown",
   "id": "7db798de-590e-4d10-96a5-dbc8479a6630",
   "metadata": {},
   "source": [
    "Q4:  Explain Bayes's theorem with an example."
   ]
  },
  {
   "cell_type": "markdown",
   "id": "66d5a5a1-bd6b-400b-9178-93825b4ba2fd",
   "metadata": {},
   "source": [
    "**Bayes's Theorem** is a mathematical formula used in probability theory to update the probability of a hypothesis based on new evidence or information. It's particularly useful for updating beliefs when new data becomes available. The theorem is named after the Reverend Thomas Bayes.\n",
    "\n",
    "The formula for Bayes's Theorem is as follows:\n",
    "\n",
    "\\[ P(A | B) = \\frac{P(B | A) \\cdot P(A)}{P(B)} \\]\n",
    "\n",
    "Where:\n",
    "- \\( P(A | B) \\) is the probability of hypothesis A given evidence B.\n",
    "- \\( P(B | A) \\) is the probability of evidence B given hypothesis A.\n",
    "- \\( P(A) \\) is the prior probability of hypothesis A.\n",
    "- \\( P(B) \\) is the probability of evidence B.\n",
    "\n",
    "Now, let's illustrate Bayes's Theorem with an example:\n",
    "\n",
    "**Example: Medical Test for a Rare Disease**\n",
    "\n",
    "Suppose there is a rare disease that affects 1 in 1000 people (\\( P(A) = 0.001 \\)). A diagnostic test for this disease is not perfect:\n",
    "- The test correctly identifies the disease 99% of the time (\\( P(B | A) = 0.99 \\), sensitivity).\n",
    "- The test produces a false positive in 1% of healthy individuals (\\( P(B | \\neg A) = 0.01 \\), false positive rate).\n",
    "\n",
    "Now, let's say a person takes the test and tests positive (\\( B \\)). We want to find the probability that the person actually has the disease (\\( P(A | B) \\)).\n",
    "\n",
    "Using Bayes's Theorem:\n",
    "\n",
    "\\[ P(A | B) = \\frac{P(B | A) \\cdot P(A)}{P(B)} \\]\n",
    "\n",
    "\\[ P(A | B) = \\frac{0.99 \\cdot 0.001}{P(B | A) \\cdot P(A) + P(B | \\neg A) \\cdot P(\\neg A)} \\]\n",
    "\n",
    "\\[ P(A | B) = \\frac{0.99 \\cdot 0.001}{0.99 \\cdot 0.001 + 0.01 \\cdot 0.999} \\]\n",
    "\n",
    "\\[ P(A | B) \\approx 0.0909 \\]\n",
    "\n",
    "So, even though the test is positive, the probability of actually having the disease is relatively low (\\( \\approx 9.09\\% \\)). This illustrates how the prior probability and the accuracy of the test jointly influence the probability of the hypothesis given new evidence."
   ]
  },
  {
   "cell_type": "code",
   "execution_count": null,
   "id": "0c0ac6a1-59c7-4876-9e45-aae3c8f8e303",
   "metadata": {},
   "outputs": [],
   "source": []
  },
  {
   "cell_type": "markdown",
   "id": "1e28ba1d-7b8d-4398-9b8a-062a8cc630be",
   "metadata": {},
   "source": [
    "Q5: What is a confidence interval? How to calculate the confidence interval, explain with an example.\n",
    "\n"
   ]
  },
  {
   "cell_type": "markdown",
   "id": "4f334927-dcce-4e0a-94a9-3716ec85df9b",
   "metadata": {},
   "source": [
    "A **confidence interval** is a statistical tool used to estimate a range within which a population parameter, such as the mean or proportion, is likely to fall. It provides a measure of the uncertainty associated with the estimate. The confidence interval is typically expressed as a range of values and a level of confidence, indicating the probability that the true parameter lies within that range.\n",
    "\n",
    "The formula for calculating a confidence interval for the mean (μ) is as follows:\n",
    "\n",
    "\\[ \\text{Confidence Interval} = \\bar{X} \\pm \\left( Z \\cdot \\frac{s}{\\sqrt{n}} \\right) \\]\n",
    "\n",
    "Where:\n",
    "- \\(\\bar{X}\\) is the sample mean.\n",
    "- \\(Z\\) is the Z-score corresponding to the desired level of confidence.\n",
    "- \\(s\\) is the sample standard deviation.\n",
    "- \\(n\\) is the sample size.\n",
    "\n",
    "Now, let's go through an example:\n",
    "\n",
    "**Example: Confidence Interval for the Mean**\n",
    "\n",
    "Suppose you conducted a study to measure the average height of a sample of 50 individuals from a population. The sample mean (\\(\\bar{X}\\)) is 65 inches, and the sample standard deviation (\\(s\\)) is 3 inches.\n",
    "\n",
    "1. **Choose a Confidence Level:**\n",
    "   Let's say you want a 95% confidence interval, which corresponds to a Z-score of approximately 1.96 for a two-tailed test.\n",
    "\n",
    "2. **Calculate the Margin of Error:**\n",
    "   \\[ \\text{Margin of Error} = Z \\cdot \\frac{s}{\\sqrt{n}} \\]\n",
    "   \\[ \\text{Margin of Error} = 1.96 \\cdot \\frac{3}{\\sqrt{50}} \\approx 1.35 \\]\n",
    "\n",
    "3. **Calculate the Confidence Interval:**\n",
    "   \\[ \\text{Confidence Interval} = \\bar{X} \\pm \\text{Margin of Error} \\]\n",
    "   \\[ \\text{Confidence Interval} = 65 \\pm 1.35 \\]\n",
    "   \\[ \\text{Confidence Interval} \\approx (63.65, 66.35) \\]\n",
    "\n",
    "Therefore, with 95% confidence, you can say that you estimate the true average height of the population to be between 63.65 inches and 66.35 inches.\n",
    "\n",
    "The choice of the confidence level (95%, 90%, etc.) and the associated Z-score depends on the desired balance between precision and level of confidence in the estimate."
   ]
  },
  {
   "cell_type": "code",
   "execution_count": null,
   "id": "322a7f0c-f9b8-4d7e-b44a-84ff269ac7d1",
   "metadata": {},
   "outputs": [],
   "source": []
  },
  {
   "cell_type": "markdown",
   "id": "53b3ac6f-1989-4f5f-ae8a-bc8f5a26d71d",
   "metadata": {},
   "source": [
    "Q6. Use Bayes' Theorem to calculate the probability of an event occurring given prior knowledge of the \n",
    "event's probability and new evidence. Provide a sample problem and solution.\n",
    "ChatGPT\n"
   ]
  },
  {
   "cell_type": "markdown",
   "id": "fe3de7b4-09f8-4d79-8d69-fe646c465480",
   "metadata": {},
   "source": [
    "Certainly! Let's go through a sample problem using Bayes' Theorem:\n",
    "\n",
    "**Example: Diagnostic Test for a Medical Condition**\n",
    "\n",
    "Suppose there is a medical condition, and a diagnostic test has been developed to identify the presence of this condition. The prevalence of the condition in the general population is known to be 2% (\\( P(A) = 0.02 \\)). The test has a sensitivity of 90% (\\( P(B | A) = 0.90 \\)), meaning it correctly identifies individuals with the condition, and a specificity of 85% (\\( P(\\neg B | \\neg A) = 0.85 \\)), meaning it correctly identifies individuals without the condition.\n",
    "\n",
    "Now, let's say an individual takes the test and tests positive (\\( B \\)). We want to calculate the probability that the person actually has the condition (\\( P(A | B) \\)).\n",
    "\n",
    "Using Bayes' Theorem:\n",
    "\n",
    "\\[ P(A | B) = \\frac{P(B | A) \\cdot P(A)}{P(B | A) \\cdot P(A) + P(B | \\neg A) \\cdot P(\\neg A)} \\]\n",
    "\n",
    "\\[ P(A | B) = \\frac{0.90 \\cdot 0.02}{0.90 \\cdot 0.02 + (1 - 0.85) \\cdot (1 - 0.02)} \\]\n",
    "\n",
    "\\[ P(A | B) = \\frac{0.018}{0.018 + 0.15 \\cdot 0.98} \\]\n",
    "\n",
    "\\[ P(A | B) \\approx \\frac{0.018}{0.18} \\approx 0.10 \\]\n",
    "\n",
    "Therefore, even though the test is positive, the probability of actually having the medical condition is relatively low (\\( \\approx 10\\% \\)). This emphasizes the importance of considering both the sensitivity and specificity of a test, as well as the prevalence of the condition in the population, when interpreting the results."
   ]
  },
  {
   "cell_type": "code",
   "execution_count": null,
   "id": "1bfccb82-f01f-4b51-b0b2-d762e0d879bc",
   "metadata": {},
   "outputs": [],
   "source": []
  },
  {
   "cell_type": "markdown",
   "id": "8ed11430-7216-4122-98c5-159dddca3a11",
   "metadata": {},
   "source": [
    "Q7. Calculate the 95% confidence interval for a sample of data with a mean of 50 and a standard deviation \n",
    "of 5. Interpret the results."
   ]
  },
  {
   "cell_type": "markdown",
   "id": "599727a0-0001-4e1f-ba22-2757169cfb6a",
   "metadata": {},
   "source": [
    "To calculate the 95% confidence interval for a sample, we can use the formula:\n",
    "\n",
    "\\[ \\text{Confidence Interval} = \\bar{X} \\pm \\left( Z \\cdot \\frac{s}{\\sqrt{n}} \\right) \\]\n",
    "\n",
    "Given:\n",
    "- \\(\\bar{X}\\) (sample mean) = 50\n",
    "- \\(s\\) (sample standard deviation) = 5\n",
    "- \\(n\\) (sample size) is not provided, so let's assume \\(n = 30\\).\n",
    "- For a 95% confidence interval, the Z-score is approximately 1.96.\n",
    "\n",
    "Now, let's calculate the confidence interval:\n",
    "\n",
    "\\[ \\text{Confidence Interval} = 50 \\pm \\left( 1.96 \\cdot \\frac{5}{\\sqrt{30}} \\right) \\]\n",
    "\n",
    "\\[ \\text{Confidence Interval} \\approx 50 \\pm (1.96 \\cdot 0.9102) \\]\n",
    "\n",
    "\\[ \\text{Confidence Interval} \\approx 50 \\pm 1.7855 \\]\n",
    "\n",
    "So, the 95% confidence interval is approximately (48.2145, 51.7855).\n",
    "\n",
    "Interpretation:\n",
    "We are 95% confident that the true population mean falls within the range of 48.2145 to 51.7855 based on our sample data. This means that if we were to take many samples and calculate 95% confidence intervals for each, we would expect the true population mean to be captured in about 95% of those intervals. The width of the interval (1.7855) represents the margin of error or uncertainty associated with our estimate of the population mean."
   ]
  },
  {
   "cell_type": "code",
   "execution_count": null,
   "id": "35f7e933-2100-40b0-b80a-cb92e663a561",
   "metadata": {},
   "outputs": [],
   "source": []
  },
  {
   "cell_type": "markdown",
   "id": "2d7d284d-ca60-4069-a01c-404a34bbd414",
   "metadata": {},
   "source": [
    "Q8. What is the margin of error in a confidence interval? How does sample size affect the margin of error? \n",
    "Provide an example of a scenario where a larger sample size would result in a smaller margin of error."
   ]
  },
  {
   "cell_type": "markdown",
   "id": "6716c418-f2a5-460c-a8e1-8d33009d8e96",
   "metadata": {},
   "source": [
    "**Margin of error** is a measure of the precision or uncertainty associated with the estimate provided by a confidence interval. It represents the range above and below the point estimate (such as the sample mean) within which the true population parameter is likely to lie. A smaller margin of error indicates a more precise estimate.\n",
    "\n",
    "The formula for the margin of error in a confidence interval for the mean is given by:\n",
    "\n",
    "\\[ \\text{Margin of Error} = Z \\cdot \\frac{s}{\\sqrt{n}} \\]\n",
    "\n",
    "Where:\n",
    "- \\( Z \\) is the critical value (based on the chosen confidence level),\n",
    "- \\( s \\) is the sample standard deviation,\n",
    "- \\( n \\) is the sample size.\n",
    "\n",
    "**How Sample Size Affects the Margin of Error:**\n",
    "- As the sample size (\\( n \\)) increases, the margin of error decreases.\n",
    "- Larger sample sizes lead to a more precise estimate of the population parameter.\n",
    "\n",
    "**Example Scenario:**\n",
    "Let's consider two scenarios with different sample sizes:\n",
    "\n",
    "1. **Smaller Sample Size:**\n",
    "   - Sample Mean (\\(\\bar{X}\\)): 50\n",
    "   - Sample Standard Deviation (\\(s\\)): 5\n",
    "   - Sample Size (\\(n\\)): 50\n",
    "\n",
    "   Using the formula, let's assume a 95% confidence interval (Z ≈ 1.96):\n",
    "\n",
    "   \\[ \\text{Margin of Error} = 1.96 \\cdot \\frac{5}{\\sqrt{50}} \\]\n",
    "\n",
    "2. **Larger Sample Size:**\n",
    "   - Sample Mean (\\(\\bar{X}\\)): 50\n",
    "   - Sample Standard Deviation (\\(s\\)): 5\n",
    "   - Sample Size (\\(n\\)): 500\n",
    "\n",
    "   Again, assuming a 95% confidence interval:\n",
    "\n",
    "   \\[ \\text{Margin of Error} = 1.96 \\cdot \\frac{5}{\\sqrt{500}} \\]\n",
    "\n",
    "In both cases, the sample mean and standard deviation are the same, but the larger sample size in the second scenario results in a smaller margin of error. This means that the estimate of the population mean is more precise with the larger sample, and we can be more confident about the range within which the true population mean is likely to fall."
   ]
  },
  {
   "cell_type": "code",
   "execution_count": null,
   "id": "49bb3403-a645-4f59-b2e6-a0b2e0e73703",
   "metadata": {},
   "outputs": [],
   "source": []
  },
  {
   "cell_type": "markdown",
   "id": "670a5b8b-66c8-42d4-ae0d-eada11969d2b",
   "metadata": {},
   "source": [
    "\n",
    "Q9. Calculate the z-score for a data point with a value of 75, a population mean of 70, and a population \n",
    "standard deviation of 5. Interpret the results.\n",
    "\n"
   ]
  },
  {
   "cell_type": "markdown",
   "id": "1c279c54-f5df-4c96-9652-3c42400dd097",
   "metadata": {},
   "source": [
    "The **z-score** (or standard score) is a measure of how many standard deviations a particular data point is from the mean of a population. It is calculated using the formula:\n",
    "\n",
    "\\[ Z = \\frac{(X - \\mu)}{\\sigma} \\]\n",
    "\n",
    "Where:\n",
    "- \\( X \\) is the value of the data point,\n",
    "- \\( \\mu \\) is the mean of the population,\n",
    "- \\( \\sigma \\) is the standard deviation of the population.\n",
    "\n",
    "In this case, for a data point with a value of 75, a population mean of 70, and a population standard deviation of 5:\n",
    "\n",
    "\\[ Z = \\frac{(75 - 70)}{5} = 1 \\]\n",
    "\n",
    "So, the z-score is 1. This indicates that the data point of 75 is one standard deviation above the mean of the population. Interpreting the result:\n",
    "\n",
    "- A positive z-score indicates a value above the mean.\n",
    "- A z-score of 1 means the data point is one standard deviation above the mean.\n",
    "- The data point of 75 is relatively close to the mean in terms of standard deviations.\n",
    "\n",
    "In practical terms, a z-score is useful for understanding the relative position of a data point within a distribution and assessing how unusual or typical that value is in the context of the population."
   ]
  },
  {
   "cell_type": "code",
   "execution_count": null,
   "id": "0bb83176-20ce-410b-bd69-741ad581353d",
   "metadata": {},
   "outputs": [],
   "source": []
  },
  {
   "cell_type": "markdown",
   "id": "87280398-89b8-45db-ab96-c10ccc620acb",
   "metadata": {},
   "source": [
    "Q10. In a study of the effectiveness of a new weight loss drug, a sample of 50 participants lost an average \n",
    "of 6 pounds with a standard deviation of 2.5 pounds. Conduct a hypothesis test to determine if the drug is \n",
    "significantly effective at a 95% confidence level using a t-test.\n"
   ]
  },
  {
   "cell_type": "markdown",
   "id": "3714ebf6-0f24-4a4d-9280-cff690e3dc1c",
   "metadata": {},
   "source": [
    "To conduct a hypothesis test using a t-test, we can set up the null hypothesis (\\(H_0\\)) and the alternative hypothesis (\\(H_1\\)). In this case, we want to test whether the weight loss drug is significantly effective.\n",
    "\n",
    "Let's define the hypotheses:\n",
    "- \\(H_0\\): The average weight loss (\\(\\mu\\)) is equal to or less than zero (no significant effect).\n",
    "- \\(H_1\\): The average weight loss (\\(\\mu\\)) is greater than zero (significant effect).\n",
    "\n",
    "We will use a one-sample t-test since we are comparing the sample mean to a known or hypothesized population mean. The formula for the t-test is:\n",
    "\n",
    "\\[ t = \\frac{\\bar{X} - \\mu_0}{\\frac{s}{\\sqrt{n}}} \\]\n",
    "\n",
    "Where:\n",
    "- \\(\\bar{X}\\) is the sample mean,\n",
    "- \\(\\mu_0\\) is the hypothesized population mean under the null hypothesis,\n",
    "- \\(s\\) is the sample standard deviation,\n",
    "- \\(n\\) is the sample size.\n",
    "\n",
    "Given the information:\n",
    "- Sample mean (\\(\\bar{X}\\)): 6 pounds\n",
    "- Sample standard deviation (\\(s\\)): 2.5 pounds\n",
    "- Sample size (\\(n\\)): 50\n",
    "- Hypothesized population mean under \\(H_0\\) (\\(\\mu_0\\)): 0 (assuming no weight loss)\n",
    "\n",
    "Now, let's calculate the t-statistic:\n",
    "\n",
    "\\[ t = \\frac{6 - 0}{\\frac{2.5}{\\sqrt{50}}} \\]\n",
    "\n",
    "\\[ t \\approx \\frac{6}{\\frac{2.5}{\\sqrt{50}}} \\]\n",
    "\n",
    "\\[ t \\approx \\frac{6}{\\frac{2.5}{\\sqrt{50}}} \\approx \\frac{6}{0.35355} \\approx 16.97 \\]\n",
    "\n",
    "Now, with this t-statistic, you would compare it to the critical value from the t-distribution table or use statistical software to find the p-value associated with this t-statistic. If the p-value is less than the significance level (typically 0.05 for a 95% confidence level), you would reject the null hypothesis.\n",
    "\n",
    "The decision rule would be: If \\( p < 0.05 \\), reject \\( H_0 \\) in favor of \\( H_1 \\), concluding that there is a significant effect of the weight loss drug."
   ]
  },
  {
   "cell_type": "code",
   "execution_count": null,
   "id": "5c818a8c-b585-4ae5-82cb-b00e7a095ea0",
   "metadata": {},
   "outputs": [],
   "source": []
  },
  {
   "cell_type": "markdown",
   "id": "676a77cc-8218-49a1-9e35-3efc321ad538",
   "metadata": {},
   "source": [
    "Q11. In a survey of 500 people, 65% reported being satisfied with their current job. Calculate the 95% \n",
    "confidence interval for the true proportion of people who are satisfied with their job.\n",
    "\n"
   ]
  },
  {
   "cell_type": "markdown",
   "id": "3e40f3cf-bdf4-4207-b248-329716fb8b49",
   "metadata": {},
   "source": [
    "To calculate the 95% confidence interval for the true proportion (\\(p\\)) of people satisfied with their job, we can use the formula for the confidence interval for a proportion:\n",
    "\n",
    "\\[ \\text{Confidence Interval} = \\hat{p} \\pm Z \\sqrt{\\frac{\\hat{p}(1 - \\hat{p})}{n}} \\]\n",
    "\n",
    "Where:\n",
    "- \\(\\hat{p}\\) is the sample proportion (percentage converted to a decimal),\n",
    "- \\(Z\\) is the Z-score corresponding to the desired confidence level,\n",
    "- \\(n\\) is the sample size.\n",
    "\n",
    "In this scenario:\n",
    "- Sample proportion (\\(\\hat{p}\\)) = 0.65 (65% expressed as a decimal),\n",
    "- Z-score for a 95% confidence interval is approximately 1.96 (commonly used for large samples),\n",
    "- Sample size (\\(n\\)) = 500.\n",
    "\n",
    "Now, let's plug these values into the formula:\n",
    "\n",
    "\\[ \\text{Confidence Interval} = 0.65 \\pm 1.96 \\sqrt{\\frac{0.65(1 - 0.65)}{500}} \\]\n",
    "\n",
    "Calculating the margin of error:\n",
    "\n",
    "\\[ \\text{Margin of Error} = 1.96 \\sqrt{\\frac{0.65(1 - 0.65)}{500}} \\]\n",
    "\n",
    "\\[ \\text{Margin of Error} \\approx 0.040 \\]\n",
    "\n",
    "Now, calculate the confidence interval:\n",
    "\n",
    "\\[ \\text{Confidence Interval} = 0.65 \\pm 0.040 \\]\n",
    "\n",
    "So, the 95% confidence interval for the true proportion of people satisfied with their job is approximately (0.610, 0.690). This means we are 95% confident that the true proportion of people satisfied with their job falls within this interval."
   ]
  },
  {
   "cell_type": "code",
   "execution_count": null,
   "id": "68109fbe-50b6-45bf-89e8-0008c8ba9629",
   "metadata": {},
   "outputs": [],
   "source": []
  },
  {
   "cell_type": "markdown",
   "id": "3c755c0b-8694-43f0-9a45-074b2d4b30a9",
   "metadata": {},
   "source": [
    "Q12. A researcher is testing the effectiveness of two different teaching methods on student performance. \n",
    "Sample A has a mean score of 85 with a standard deviation of 6, while sample B has a mean score of 82 \n",
    "with a standard deviation of 5. Conduct a hypothesis test to determine if the two teaching methods have a \n",
    "significant difference in student performance using a t-test with a significance level of 0.01.\n"
   ]
  },
  {
   "cell_type": "markdown",
   "id": "a4c7cc48-9b82-4cb0-8324-256da63c97ca",
   "metadata": {},
   "source": [
    "To determine if there is a significant difference in student performance between the two teaching methods, you can conduct an independent samples t-test. The null hypothesis (\\(H_0\\)) is that there is no significant difference, and the alternative hypothesis (\\(H_1\\)) is that there is a significant difference.\n",
    "\n",
    "The formula for the t-test for independent samples is given by:\n",
    "\n",
    "\\[ t = \\frac{\\bar{X}_1 - \\bar{X}_2}{\\sqrt{\\frac{s_1^2}{n_1} + \\frac{s_2^2}{n_2}}} \\]\n",
    "\n",
    "Where:\n",
    "- \\(\\bar{X}_1\\) and \\(\\bar{X}_2\\) are the sample means,\n",
    "- \\(s_1\\) and \\(s_2\\) are the sample standard deviations,\n",
    "- \\(n_1\\) and \\(n_2\\) are the sample sizes.\n",
    "\n",
    "Given:\n",
    "- Sample A (\\(\\bar{X}_1 = 85\\), \\(s_1 = 6\\), \\(n_1\\) is not provided),\n",
    "- Sample B (\\(\\bar{X}_2 = 82\\), \\(s_2 = 5\\), \\(n_2\\) is not provided).\n",
    "\n",
    "Since the sample sizes are not given, let's assume that both samples have equal sizes (let \\(n_1 = n_2 = n\\)) for simplicity. Now we need to find the critical t-value at a 99% confidence level (since the significance level is 0.01).\n",
    "\n",
    "You'll compare the calculated t-value with the critical t-value to determine if the difference is statistically significant.\n",
    "\n",
    "Perform the calculations to find the t-value and compare it to the critical t-value. If the calculated t-value is greater than the critical t-value, you reject the null hypothesis and conclude that there is a significant difference in student performance between the two teaching methods."
   ]
  },
  {
   "cell_type": "code",
   "execution_count": null,
   "id": "03e85463-5d5d-4b88-9434-1e347aab5f03",
   "metadata": {},
   "outputs": [],
   "source": []
  },
  {
   "cell_type": "markdown",
   "id": "a8b26e7a-aaa9-4f7c-b11f-01125e9e6ae3",
   "metadata": {},
   "source": [
    "Q13. A population has a mean of 60 and a standard deviation of 8. A sample of 50 observations has a mean \n",
    "of 65. Calculate the 90% confidence interval for the true population mean"
   ]
  },
  {
   "cell_type": "markdown",
   "id": "4b589c60-2091-4615-bd26-c1e94f390cd3",
   "metadata": {},
   "source": [
    "To calculate the 90% confidence interval for the true population mean (\\(\\mu\\)), you can use the formula for the confidence interval:\n",
    "\n",
    "\\[ \\text{Confidence Interval} = \\bar{X} \\pm Z \\left(\\frac{\\sigma}{\\sqrt{n}}\\right) \\]\n",
    "\n",
    "Where:\n",
    "- \\(\\bar{X}\\) is the sample mean,\n",
    "- \\(Z\\) is the Z-score corresponding to the desired confidence level,\n",
    "- \\(\\sigma\\) is the population standard deviation,\n",
    "- \\(n\\) is the sample size.\n",
    "\n",
    "Given:\n",
    "- Sample mean (\\(\\bar{X}\\)) = 65,\n",
    "- Population standard deviation (\\(\\sigma\\)) = 8,\n",
    "- Sample size (\\(n\\)) = 50.\n",
    "\n",
    "First, find the Z-score corresponding to a 90% confidence level. You can use a standard normal distribution table or a calculator for this. For a 90% confidence level, the Z-score is approximately 1.645.\n",
    "\n",
    "Now, plug the values into the formula:\n",
    "\n",
    "\\[ \\text{Confidence Interval} = 65 \\pm 1.645 \\left(\\frac{8}{\\sqrt{50}}\\right) \\]\n",
    "\n",
    "Calculate the margin of error:\n",
    "\n",
    "\\[ \\text{Margin of Error} = 1.645 \\left(\\frac{8}{\\sqrt{50}}\\right) \\]\n",
    "\n",
    "\\[ \\text{Margin of Error} \\approx 2.318 \\]\n",
    "\n",
    "Now, calculate the confidence interval:\n",
    "\n",
    "\\[ \\text{Confidence Interval} = 65 \\pm 2.318 \\]\n",
    "\n",
    "So, the 90% confidence interval for the true population mean is approximately (62.682, 67.318). This means that we are 90% confident that the true population mean falls within this interval."
   ]
  },
  {
   "cell_type": "code",
   "execution_count": null,
   "id": "111a2aa1-c882-462e-b240-1ac2f17a25d6",
   "metadata": {},
   "outputs": [],
   "source": []
  },
  {
   "cell_type": "markdown",
   "id": "5a9aa937-eb11-44e2-a59e-1c6e26574c68",
   "metadata": {},
   "source": [
    "Q14. In a study of the effects of caffeine on reaction time, a sample of 30 participants had an average \n",
    "reaction time of 0.25 seconds with a standard deviation of 0.05 seconds. Conduct a hypothesis test to \n",
    "determine if the caffeine has a significant effect on reaction time at a 90% confidence level using a t-test."
   ]
  },
  {
   "cell_type": "markdown",
   "id": "510f7342-a911-416b-8fc1-16e0b7d4fc7e",
   "metadata": {},
   "source": [
    "To conduct a hypothesis test to determine if caffeine has a significant effect on reaction time, you can use a one-sample t-test. The null hypothesis (\\(H_0\\)) is that there is no significant effect, and the alternative hypothesis (\\(H_1\\)) is that there is a significant effect.\n",
    "\n",
    "The formula for the one-sample t-test is given by:\n",
    "\n",
    "\\[ t = \\frac{\\bar{X} - \\mu_0}{\\frac{s}{\\sqrt{n}}} \\]\n",
    "\n",
    "Where:\n",
    "- \\(\\bar{X}\\) is the sample mean,\n",
    "- \\(\\mu_0\\) is the hypothesized population mean under the null hypothesis,\n",
    "- \\(s\\) is the sample standard deviation,\n",
    "- \\(n\\) is the sample size.\n",
    "\n",
    "Given:\n",
    "- Sample mean (\\(\\bar{X}\\)) = 0.25 seconds,\n",
    "- Sample standard deviation (\\(s\\)) = 0.05 seconds,\n",
    "- Sample size (\\(n\\)) = 30,\n",
    "- Confidence level = 90%.\n",
    "\n",
    "**Step 1: Formulate the Hypotheses:**\n",
    "- Null hypothesis (\\(H_0\\)): \\(\\mu = \\mu_0\\) (Caffeine has no significant effect on reaction time).\n",
    "- Alternative hypothesis (\\(H_1\\)): \\(\\mu \\neq \\mu_0\\) (Caffeine has a significant effect on reaction time).\n",
    "\n",
    "**Step 2: Set the Significance Level:**\n",
    "Since the confidence level is 90%, the significance level (\\(\\alpha\\)) is 0.10.\n",
    "\n",
    "**Step 3: Calculate the Test Statistic:**\n",
    "\\[ t = \\frac{0.25 - \\mu_0}{\\frac{0.05}{\\sqrt{30}}} \\]\n",
    "\n",
    "**Step 4: Determine the Critical Region:**\n",
    "At a 90% confidence level with 29 degrees of freedom (30 - 1), the critical t-values are approximately ±1.699.\n",
    "\n",
    "**Step 5: Make a Decision:**\n",
    "Compare the calculated t-value with the critical t-values. If the calculated t-value falls outside the critical region, you reject the null hypothesis.\n",
    "\n",
    "**Step 6: Draw a Conclusion:**\n",
    "Based on the comparison, either reject the null hypothesis or fail to reject it and make a conclusion about the effect of caffeine on reaction time."
   ]
  },
  {
   "cell_type": "code",
   "execution_count": null,
   "id": "b28e67fe-f47e-4c14-8693-e203baaab6db",
   "metadata": {},
   "outputs": [],
   "source": []
  }
 ],
 "metadata": {
  "kernelspec": {
   "display_name": "Python 3 (ipykernel)",
   "language": "python",
   "name": "python3"
  },
  "language_info": {
   "codemirror_mode": {
    "name": "ipython",
    "version": 3
   },
   "file_extension": ".py",
   "mimetype": "text/x-python",
   "name": "python",
   "nbconvert_exporter": "python",
   "pygments_lexer": "ipython3",
   "version": "3.10.8"
  }
 },
 "nbformat": 4,
 "nbformat_minor": 5
}
