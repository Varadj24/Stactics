{
 "cells": [
  {
   "cell_type": "markdown",
   "id": "d8ffbaad-4e82-4898-88c6-6dca7ef598ab",
   "metadata": {},
   "source": [
    "Q1: What is Estimation Statistics? Explain point estimate and interval estimate.\n",
    "ChatGPT\n"
   ]
  },
  {
   "cell_type": "markdown",
   "id": "3546a71a-a59e-4899-86ad-1b9f5a2233c8",
   "metadata": {},
   "source": [
    "**Estimation in Statistics:**\n",
    "\n",
    "In statistics, estimation is the process of using sample data to make inferences about the characteristics or parameters of a population. It involves providing numerical values (estimates) that serve as reasonable approximations of the unknown population parameters. There are two main types of estimation: point estimation and interval estimation.\n",
    "\n",
    "**1. Point Estimate:**\n",
    "A point estimate is a single numerical value that is used to estimate the unknown population parameter. It is a specific value calculated from the sample data and serves as the best guess for the true value of the parameter.\n",
    "\n",
    "For example:\n",
    "- **Sample Mean (\\(\\bar{x}\\)):** If we want to estimate the population mean (\\(\\mu\\)), the sample mean is a point estimate.\n",
    "- **Sample Proportion (\\(p\\)):** If we want to estimate the population proportion (\\(P\\)), the sample proportion is a point estimate.\n",
    "\n",
    "While point estimates provide a single value, they do not convey information about the variability or precision of the estimate. This limitation leads to the concept of interval estimation.\n",
    "\n",
    "**2. Interval Estimate:**\n",
    "An interval estimate provides a range of values within which the true value of the population parameter is likely to fall. Instead of giving a single point, it gives a range, often expressed as a confidence interval.\n",
    "\n",
    "For example:\n",
    "- **Confidence Interval for Mean (\\(\\mu\\)):** \"We are 95% confident that the true population mean lies between \\(a\\) and \\(b\\).\"\n",
    "- **Confidence Interval for Proportion (\\(P\\)):** \"We are 90% confident that the true population proportion lies between \\(c\\) and \\(d\\).\"\n",
    "\n",
    "Interval estimates are more informative than point estimates because they convey a sense of the precision or uncertainty associated with the estimate. The width of the interval reflects the degree of uncertainty, and higher confidence levels result in wider intervals.\n",
    "\n",
    "**Importance:**\n",
    "- **Precision:** Interval estimates provide a range of values, allowing for a more precise indication of where the true population parameter is likely to be.\n",
    "  \n",
    "- **Confidence Levels:** Confidence intervals specify the level of confidence associated with the estimate, indicating the probability that the interval contains the true parameter.\n",
    "\n",
    "In summary, estimation in statistics involves providing point estimates or interval estimates for population parameters based on sample data. Point estimates give a single value, while interval estimates provide a range of values and convey information about the precision and confidence associated with the estimate."
   ]
  },
  {
   "cell_type": "code",
   "execution_count": null,
   "id": "d639bafe-9bea-4945-94f8-e3471fff3d71",
   "metadata": {},
   "outputs": [],
   "source": []
  },
  {
   "cell_type": "markdown",
   "id": "5c7e512d-5088-481d-b866-90378cbaf05d",
   "metadata": {},
   "source": [
    "Q2. Write a Python function to estimate the population mean using a sample mean and standard deviation"
   ]
  },
  {
   "cell_type": "code",
   "execution_count": null,
   "id": "80a33790-a01b-4b26-93d4-8ab5f0edef65",
   "metadata": {},
   "outputs": [
    {
     "name": "stdout",
     "output_type": "stream",
     "text": [
      "Estimated population mean: 72.5\n",
      "Confidence interval: (69.43806967858359, 75.56193032141641) at 0.95 confidence level\n"
     ]
    }
   ],
   "source": [
    "import scipy.stats as stats\n",
    "import math\n",
    "\n",
    "def mean_estimation(sample_mean, sample_std, sample_size, confidence_level):\n",
    "    \"\"\"\n",
    "    Estimate the population mean with a confidence interval.\n",
    "\n",
    "    Parameters:\n",
    "    - sample_mean: The sample mean.\n",
    "    - sample_std: The sample standard deviation.\n",
    "    - sample_size: The size of the sample.\n",
    "    - confidence_level: The desired confidence level (e.g., 0.95 for 95% confidence).\n",
    "\n",
    "    Returns:\n",
    "    - Tuple containing the lower and upper bounds of the confidence interval.\n",
    "    \"\"\"\n",
    "    # Calculate the standard error\n",
    "    standard_error = sample_std / math.sqrt(sample_size)\n",
    "\n",
    "    # Calculate the degrees of freedom for a t-distribution\n",
    "    degrees_of_freedom = sample_size - 1\n",
    "\n",
    "    # Calculate the t-value for the given confidence level and degrees of freedom\n",
    "    t_value = stats.t.ppf((1 + confidence_level) / 2, degrees_of_freedom)\n",
    "\n",
    "    # Calculate the margin of error\n",
    "    margin_of_error = t_value * standard_error\n",
    "\n",
    "    # Calculate the confidence interval\n",
    "    lower_bound = sample_mean - margin_of_error\n",
    "    upper_bound = sample_mean + margin_of_error\n",
    "\n",
    "    return lower_bound, upper_bound\n",
    "\n",
    "# Example usage:\n",
    "sample_mean = 72.5\n",
    "sample_std = 8.2\n",
    "sample_size = 30\n",
    "confidence_level = 0.95\n",
    "\n",
    "confidence_interval = mean_estimation(sample_mean, sample_std, sample_size, confidence_level)\n",
    "print(f\"Estimated population mean: {sample_mean}\")\n",
    "print(f\"Confidence interval: {confidence_interval} at {confidence_level} confidence level\")\n"
   ]
  },
  {
   "cell_type": "code",
   "execution_count": null,
   "id": "07bb80a1-5db1-4f8c-bb25-c14193350d98",
   "metadata": {},
   "outputs": [],
   "source": []
  },
  {
   "cell_type": "markdown",
   "id": "a639b755-5c55-48f2-ae39-2e920cbe63d1",
   "metadata": {},
   "source": [
    "Q3: What is Hypothesis testing? Why is it used? State the importance of Hypothesis testing"
   ]
  },
  {
   "cell_type": "markdown",
   "id": "d804cac9-ae50-423d-b923-2aac68c98503",
   "metadata": {},
   "source": [
    "**Hypothesis Testing:**\n",
    "\n",
    "Hypothesis testing is a statistical method used to make inferences about population parameters based on sample data. The process involves formulating a hypothesis about the population parameter, collecting and analyzing sample data, and drawing conclusions about the population based on the results.\n",
    "\n",
    "The two main types of hypotheses in hypothesis testing are:\n",
    "\n",
    "1. **Null Hypothesis (\\(H_0\\)):**\n",
    "   - Represents a statement of no effect or no difference.\n",
    "   - Typically, it is the hypothesis that researchers aim to test against.\n",
    "\n",
    "2. **Alternative Hypothesis (\\(H_1\\) or \\(H_a\\)):**\n",
    "   - Represents a statement of an effect or a difference.\n",
    "   - It is what researchers are trying to demonstrate or support.\n",
    "\n",
    "The goal of hypothesis testing is to evaluate the evidence provided by the sample data and decide whether to reject the null hypothesis in favor of the alternative hypothesis.\n",
    "\n",
    "**Steps in Hypothesis Testing:**\n",
    "\n",
    "1. **Formulate Hypotheses:**\n",
    "   - Set up the null and alternative hypotheses based on the research question.\n",
    "\n",
    "2. **Choose Significance Level (\\(\\alpha\\)):**\n",
    "   - Determine the level of significance, denoted by \\(\\alpha\\), which represents the probability of rejecting the null hypothesis when it is true. Common choices include 0.05, 0.01, or 0.10.\n",
    "\n",
    "3. **Collect and Analyze Data:**\n",
    "   - Collect and analyze sample data using appropriate statistical methods.\n",
    "\n",
    "4. **Calculate Test Statistic:**\n",
    "   - Calculate a test statistic based on the sample data.\n",
    "\n",
    "5. **Make Decision:**\n",
    "   - Compare the test statistic to a critical value or p-value.\n",
    "   - If the test statistic falls in the rejection region, reject the null hypothesis.\n",
    "   - If the test statistic does not fall in the rejection region, fail to reject the null hypothesis.\n",
    "\n",
    "6. **Draw Conclusion:**\n",
    "   - Draw conclusions based on the decision in step 5 and interpret the results in the context of the research question.\n",
    "\n",
    "**Importance of Hypothesis Testing:**\n",
    "\n",
    "1. **Decision-Making:**\n",
    "   - Hypothesis testing provides a systematic and objective method for decision-making in various fields, including science, medicine, business, and social sciences.\n",
    "\n",
    "2. **Inference:**\n",
    "   - It allows researchers to make inferences about population parameters based on sample data. This is essential when it is not feasible or practical to study an entire population.\n",
    "\n",
    "3. **Scientific Method:**\n",
    "   - Hypothesis testing is a fundamental component of the scientific method. It enables researchers to test and refine theories by comparing predictions with observed data.\n",
    "\n",
    "4. **Policy and Business Decisions:**\n",
    "   - It is used in policy-making and business decisions to assess the effectiveness of interventions, marketing strategies, or product changes.\n",
    "\n",
    "5. **Quality Control:**\n",
    "   - In manufacturing and quality control, hypothesis testing is employed to ensure that products meet specified standards and specifications.\n",
    "\n",
    "6. **Research Validation:**\n",
    "   - Researchers use hypothesis testing to validate or refute hypotheses and contribute to the accumulation of scientific knowledge.\n",
    "\n",
    "7. **Error Control:**\n",
    "   - By setting a significance level (\\(\\alpha\\)), researchers control the risk of making a Type I error (incorrectly rejecting a true null hypothesis).\n",
    "\n",
    "Hypothesis testing is a powerful tool that helps researchers draw meaningful conclusions from data, make informed decisions, and contribute to the advancement of knowledge in various fields."
   ]
  },
  {
   "cell_type": "code",
   "execution_count": null,
   "id": "872ed27b-dbf3-44ad-ac88-c6c04dae3f74",
   "metadata": {},
   "outputs": [],
   "source": []
  },
  {
   "cell_type": "markdown",
   "id": "920736c7-5349-400b-a718-ce8f4c5391ab",
   "metadata": {},
   "source": [
    "Q4. Create a hypothesis that states whether the average weight of male college students is greater than the average weight of female college students."
   ]
  },
  {
   "cell_type": "markdown",
   "id": "200e73ce-94d5-4741-b90f-6087961dfc5f",
   "metadata": {},
   "source": [
    "**Null Hypothesis (\\(H_0\\)):**\n",
    "The average weight of male college students is equal to or less than the average weight of female college students.\n",
    "\n",
    "\\[ H_0: \\mu_{\\text{male}} \\leq \\mu_{\\text{female}} \\]\n",
    "\n",
    "**Alternative Hypothesis (\\(H_1\\) or \\(H_a\\)):**\n",
    "The average weight of male college students is greater than the average weight of female college students.\n",
    "\n",
    "\\[ H_1: \\mu_{\\text{male}} > \\mu_{\\text{female}} \\]\n",
    "\n",
    "Here:\n",
    "- \\( \\mu_{\\text{male}} \\) represents the population mean weight of male college students.\n",
    "- \\( \\mu_{\\text{female}} \\) represents the population mean weight of female college students.\n",
    "\n",
    "This hypothesis is formulated to investigate whether there is evidence to suggest that, on average, male college students weigh more than their female counterparts. The null hypothesis assumes no significant difference or a difference in the opposite direction. The alternative hypothesis suggests a directional difference, indicating that male students, on average, have a greater weight."
   ]
  },
  {
   "cell_type": "code",
   "execution_count": null,
   "id": "74f0b1c9-03a9-4aab-92bf-3e240f6ca07c",
   "metadata": {},
   "outputs": [],
   "source": []
  },
  {
   "cell_type": "markdown",
   "id": "6bfe1f0d-8e28-48b6-a067-30ebf2969976",
   "metadata": {},
   "source": [
    "Q5. Write a Python script to conduct a hypothesis test on the difference between two population means, given a sample from each population."
   ]
  },
  {
   "cell_type": "code",
   "execution_count": 2,
   "id": "d0339584-8b91-4afe-81f0-5e4016e7e026",
   "metadata": {},
   "outputs": [
    {
     "name": "stdout",
     "output_type": "stream",
     "text": [
      "Test Statistic: 6.301581044795209\n",
      "P-value: 6.11310954661468e-06\n",
      "Reject the null hypothesis. There is evidence of a significant difference.\n"
     ]
    }
   ],
   "source": [
    "import numpy as np\n",
    "from scipy.stats import ttest_ind\n",
    "\n",
    "def conduct_two_sample_t_test(sample1, sample2, alpha=0.05):\n",
    "    \"\"\"\n",
    "    Conducts a two-sample t-test for the difference between two population means.\n",
    "\n",
    "    Parameters:\n",
    "    - sample1: First sample data.\n",
    "    - sample2: Second sample data.\n",
    "    - alpha: Significance level (default is 0.05).\n",
    "\n",
    "    Returns:\n",
    "    - Tuple containing the test statistic and p-value.\n",
    "    \"\"\"\n",
    "    t_statistic, p_value = ttest_ind(sample1, sample2)\n",
    "    return t_statistic, p_value\n",
    "\n",
    "# Example usage:\n",
    "# Assuming you have two samples (e.g., weights of male and female college students)\n",
    "sample_male = np.array([70, 72, 75, 68, 74, 71, 73, 69, 72, 70])\n",
    "sample_female = np.array([62, 65, 68, 61, 64, 67, 63, 66, 68, 62])\n",
    "\n",
    "# Conduct the two-sample t-test\n",
    "t_statistic, p_value = conduct_two_sample_t_test(sample_male, sample_female)\n",
    "\n",
    "# Print results\n",
    "print(f\"Test Statistic: {t_statistic}\")\n",
    "print(f\"P-value: {p_value}\")\n",
    "\n",
    "# Check for statistical significance at the specified alpha level\n",
    "if p_value < 0.05:\n",
    "    print(\"Reject the null hypothesis. There is evidence of a significant difference.\")\n",
    "else:\n",
    "    print(\"Fail to reject the null hypothesis. There is no significant difference.\")\n"
   ]
  },
  {
   "cell_type": "code",
   "execution_count": null,
   "id": "c958f38c-5893-4a3e-8305-6c34e1efc878",
   "metadata": {},
   "outputs": [],
   "source": []
  },
  {
   "cell_type": "markdown",
   "id": "f355efe8-6383-4a72-965c-f1771843e96a",
   "metadata": {},
   "source": [
    "Q6: What is a null and alternative hypothesis? Give some examples"
   ]
  },
  {
   "cell_type": "markdown",
   "id": "44f602eb-4e75-4ce5-9398-4c9a96c99f54",
   "metadata": {},
   "source": [
    "**Null Hypothesis (\\(H_0\\)):**\n",
    "The null hypothesis is a statement that there is no significant difference, effect, or relationship. It often represents a default or status quo assumption. In hypothesis testing, researchers typically aim to test the null hypothesis against an alternative hypothesis. The null hypothesis is denoted as \\(H_0\\).\n",
    "\n",
    "**Alternative Hypothesis (\\(H_1\\) or \\(H_a\\)):**\n",
    "The alternative hypothesis contradicts the null hypothesis and represents a claim that there is a significant difference, effect, or relationship. It is what researchers are typically trying to demonstrate or support. The alternative hypothesis is denoted as \\(H_1\\) or \\(H_a\\).\n",
    "\n",
    "**Examples:**\n",
    "\n",
    "1. **Example in the Context of a Drug Trial:**\n",
    "   - **Null Hypothesis (\\(H_0\\)):** The new drug has no effect on lowering blood pressure.\n",
    "   - **Alternative Hypothesis (\\(H_1\\)):** The new drug is effective in lowering blood pressure.\n",
    "\n",
    "2. **Example in Educational Research:**\n",
    "   - **Null Hypothesis (\\(H_0\\)):** There is no difference in test scores between students who receive tutoring and those who do not.\n",
    "   - **Alternative Hypothesis (\\(H_1\\)):** Students who receive tutoring have higher test scores than those who do not.\n",
    "\n",
    "3. **Example in Manufacturing:**\n",
    "   - **Null Hypothesis (\\(H_0\\)):** The mean product defect rate is equal to or less than 2%.\n",
    "   - **Alternative Hypothesis (\\(H_1\\)):** The mean product defect rate is greater than 2%.\n",
    "\n",
    "4. **Example in Marketing:**\n",
    "   - **Null Hypothesis (\\(H_0\\)):** The mean customer satisfaction score is 80.\n",
    "   - **Alternative Hypothesis (\\(H_1\\)):** The mean customer satisfaction score is different from 80.\n",
    "\n",
    "5. **Example in Sociology:**\n",
    "   - **Null Hypothesis (\\(H_0\\)):** The proportion of individuals supporting a social policy is 50% or less.\n",
    "   - **Alternative Hypothesis (\\(H_1\\)):** The proportion of individuals supporting the social policy is greater than 50%.\n",
    "\n",
    "6. **Example in Environmental Science:**\n",
    "   - **Null Hypothesis (\\(H_0\\)):** The average air pollution level in City A is the same as in City B.\n",
    "   - **Alternative Hypothesis (\\(H_1\\)):** The average air pollution level in City A is different from City B.\n",
    "\n",
    "In each example, the null hypothesis represents a statement of no effect, no difference, or no relationship, while the alternative hypothesis represents a claim that there is a significant effect, difference, or relationship. The goal of hypothesis testing is to evaluate the evidence from sample data and decide whether to reject the null hypothesis in favor of the alternative hypothesis."
   ]
  },
  {
   "cell_type": "code",
   "execution_count": null,
   "id": "f2ed9d5e-0555-4dba-84dc-e56a0f8f8406",
   "metadata": {},
   "outputs": [],
   "source": []
  },
  {
   "cell_type": "markdown",
   "id": "df74aecf-3f5a-45dd-9fe5-bfc11cccdb3d",
   "metadata": {},
   "source": [
    "Q7: Write down the steps involved in hypothesis testing\n",
    "\n"
   ]
  },
  {
   "cell_type": "markdown",
   "id": "f0ad46cc-c6f2-438b-9d90-3de84e6f1a9d",
   "metadata": {},
   "source": [
    "Hypothesis testing involves a systematic process of making statistical inferences about population parameters based on sample data. The general steps in hypothesis testing are as follows:\n",
    "\n",
    "1. **Formulate Hypotheses:**\n",
    "   - Clearly state the null hypothesis (\\(H_0\\)) and the alternative hypothesis (\\(H_1\\) or \\(H_a\\)). These hypotheses should be based on the research question and represent different claims about the population parameter.\n",
    "\n",
    "2. **Choose Significance Level (\\(\\alpha\\)):**\n",
    "   - Determine the significance level (\\(\\alpha\\)), which represents the probability of rejecting the null hypothesis when it is true. Common choices are 0.05, 0.01, or 0.10. The significance level determines the threshold for statistical significance.\n",
    "\n",
    "3. **Select the Test Statistic:**\n",
    "   - Choose an appropriate test statistic based on the type of data and the hypothesis being tested. Common test statistics include the t-statistic, z-statistic, chi-square statistic, or F-statistic, depending on the nature of the data and the hypothesis.\n",
    "\n",
    "4. **Define the Rejection Region:**\n",
    "   - Establish the rejection region, which consists of the values of the test statistic that lead to the rejection of the null hypothesis. The rejection region is determined by the significance level and the chosen test statistic.\n",
    "\n",
    "5. **Collect and Analyze Data:**\n",
    "   - Collect sample data and perform the necessary calculations to obtain the test statistic. Analyze the data using appropriate statistical methods based on the chosen test.\n",
    "\n",
    "6. **Calculate the Test Statistic:**\n",
    "   - Compute the value of the test statistic using the sample data and the chosen test formula.\n",
    "\n",
    "7. **Make a Decision:**\n",
    "   - Compare the calculated test statistic to the critical value(s) or use the p-value approach to determine whether to reject the null hypothesis. If the test statistic falls in the rejection region, reject \\(H_0\\); otherwise, fail to reject \\(H_0\\).\n",
    "\n",
    "8. **Draw a Conclusion:**\n",
    "   - Based on the decision in step 7, draw a conclusion regarding the null hypothesis. If \\(H_0\\) is rejected, interpret the results in the context of the research question. If \\(H_0\\) is not rejected, acknowledge that there is not enough evidence to support the alternative hypothesis.\n",
    "\n",
    "9. **Interpret Results:**\n",
    "   - Provide a meaningful interpretation of the results in the context of the research question. Discuss the implications of the findings and their relevance to the study.\n",
    "\n",
    "10. **Consider Limitations:**\n",
    "    - Acknowledge any limitations of the study, such as sample size, assumptions, or potential sources of bias. Consider the generalizability of the results to the broader population.\n",
    "\n",
    "Following these steps ensures a systematic and rigorous approach to hypothesis testing, helping researchers make informed decisions based on statistical evidence."
   ]
  },
  {
   "cell_type": "code",
   "execution_count": null,
   "id": "9d8d3d71-de73-4e1e-8107-3b7ce487795a",
   "metadata": {},
   "outputs": [],
   "source": []
  },
  {
   "cell_type": "markdown",
   "id": "dcc0c07e-5447-4770-ba93-ae042746e99a",
   "metadata": {},
   "source": [
    "Q8. Define p-value and explain its significance in hypothesis testing"
   ]
  },
  {
   "cell_type": "markdown",
   "id": "779efd8f-05f8-4c99-b5eb-8da349baa2bf",
   "metadata": {},
   "source": [
    "**P-Value Definition:**\n",
    "\n",
    "The p-value, or probability value, is a quantitative measure that helps assess the evidence against the null hypothesis in hypothesis testing. It represents the probability of obtaining test results as extreme as, or more extreme than, the observed results, under the assumption that the null hypothesis is true.\n",
    "\n",
    "In other words, the p-value quantifies how inconsistent the observed data are with the null hypothesis. A smaller p-value suggests stronger evidence against the null hypothesis, while a larger p-value indicates weaker evidence.\n",
    "\n",
    "**Significance in Hypothesis Testing:**\n",
    "\n",
    "1. **Decision Rule:**\n",
    "   - In hypothesis testing, a pre-defined significance level (\\(\\alpha\\)) is chosen (e.g., 0.05). The p-value is then compared to this significance level.\n",
    "   - If the p-value is less than or equal to \\(\\alpha\\), the null hypothesis is rejected. This indicates that the observed data are unlikely to have occurred if the null hypothesis is true.\n",
    "   - If the p-value is greater than \\(\\alpha\\), there is insufficient evidence to reject the null hypothesis.\n",
    "\n",
    "2. **Interpretation:**\n",
    "   - A small p-value suggests that the observed results are unlikely under the assumption that the null hypothesis is true. This leads to the rejection of the null hypothesis in favor of the alternative hypothesis.\n",
    "   - A large p-value indicates that the observed results are consistent with what would be expected if the null hypothesis is true. This results in a failure to reject the null hypothesis.\n",
    "\n",
    "3. **Level of Significance:**\n",
    "   - The p-value provides a continuous measure of evidence against the null hypothesis. Researchers can choose a significance level based on their tolerance for Type I errors (incorrectly rejecting a true null hypothesis).\n",
    "   - Common significance levels include 0.05, 0.01, or 0.10. A smaller significance level corresponds to a more stringent criterion for rejecting the null hypothesis.\n",
    "\n",
    "4. **Direction of the Test:**\n",
    "   - In two-tailed tests, the p-value considers extreme values in both tails of the distribution. For one-tailed tests, it focuses on extreme values in only one tail.\n",
    "   - A two-tailed test is appropriate when there is interest in deviations in either direction, while a one-tailed test is used when interest is specifically in deviations in one direction.\n",
    "\n",
    "5. **Magnitude of the Effect:**\n",
    "   - The p-value alone does not provide information about the size or practical significance of the effect. Even a small p-value may not be practically significant if the effect size is trivial.\n",
    "\n",
    "In summary, the p-value serves as a crucial metric in hypothesis testing, providing a quantitative measure of the evidence against the null hypothesis. It aids researchers in making informed decisions about whether to reject or fail to reject the null hypothesis based on the observed data."
   ]
  },
  {
   "cell_type": "code",
   "execution_count": null,
   "id": "bcfc8eac-faa0-4058-8a49-046b518847e9",
   "metadata": {},
   "outputs": [],
   "source": []
  },
  {
   "cell_type": "markdown",
   "id": "4c9a8289-2e4e-466c-a9ed-c58671ef7b5a",
   "metadata": {},
   "source": [
    "Q9. Generate a Student's t-distribution plot using Python's matplotlib library, with the degrees of freedom parameter set to 10."
   ]
  },
  {
   "cell_type": "code",
   "execution_count": 11,
   "id": "25e90acb-42e0-4afb-94ef-ee1a0deee49c",
   "metadata": {},
   "outputs": [
    {
     "data": {
      "image/png": "[encoded data removed]",
      "text/plain": [
       "<Figure size 800x500 with 1 Axes>"
      ]
     },
     "metadata": {},
     "output_type": "display_data"
    }
   ],
   "source": [
    "import numpy as np\n",
    "import matplotlib.pyplot as plt\n",
    "from scipy.stats import t\n",
    "\n",
    "# Degrees of freedom\n",
    "df = 10\n",
    "\n",
    "# Generate values for the x-axis\n",
    "x = np.linspace(-4, 4, 1000)\n",
    "\n",
    "# Calculate the probability density function (PDF) for the t-distribution\n",
    "pdf_values = t.pdf(x, df)\n",
    "\n",
    "# Plot the t-distribution\n",
    "plt.figure(figsize=(8, 5),edgecolor='green')\n",
    "plt.plot(x, pdf_values, label=f'Student\\'s t-distribution (df={df})')\n",
    "plt.title('Student\\'s t-distribution Plot')\n",
    "plt.xlabel('x')\n",
    "plt.ylabel('Probability Density Function (PDF)')\n",
    "plt.legend()\n",
    "plt.grid(True)\n",
    "plt.show()\n"
   ]
  },
  {
   "cell_type": "code",
   "execution_count": null,
   "id": "69c5128b-7109-4e82-845b-04c9312fa1ec",
   "metadata": {},
   "outputs": [],
   "source": []
  },
  {
   "cell_type": "markdown",
   "id": "d4f20607-7e1b-496d-a625-b6bcad061c0b",
   "metadata": {},
   "source": [
    "Q10. Write a Python program to calculate the two-sample t-test for independent samples, given two random samples of equal size and a null hypothesis that the population means are equal."
   ]
  },
  {
   "cell_type": "code",
   "execution_count": 12,
   "id": "a4f80a47-397b-469c-8509-33c858d5affe",
   "metadata": {},
   "outputs": [
    {
     "name": "stdout",
     "output_type": "stream",
     "text": [
      "Two-Sample T-Test Results:\n",
      "T-Statistic: -2.3981151520102415\n",
      "P-Value: 0.019717941865758228\n",
      "Reject the null hypothesis. There is evidence of a significant difference.\n"
     ]
    }
   ],
   "source": [
    "import numpy as np\n",
    "from scipy.stats import ttest_ind\n",
    "\n",
    "def two_sample_t_test(sample1, sample2):\n",
    "    \"\"\"\n",
    "    Perform a two-sample t-test for independent samples.\n",
    "\n",
    "    Parameters:\n",
    "    - sample1: First sample data.\n",
    "    - sample2: Second sample data.\n",
    "\n",
    "    Returns:\n",
    "    - Tuple containing the t-statistic and p-value.\n",
    "    \"\"\"\n",
    "    t_statistic, p_value = ttest_ind(sample1, sample2)\n",
    "    return t_statistic, p_value\n",
    "\n",
    "# Example usage:\n",
    "# Generate two random samples of equal size\n",
    "np.random.seed(42)\n",
    "sample1 = np.random.normal(loc=50, scale=10, size=30)\n",
    "sample2 = np.random.normal(loc=55, scale=10, size=30)\n",
    "\n",
    "# Perform the two-sample t-test\n",
    "t_statistic, p_value = two_sample_t_test(sample1, sample2)\n",
    "\n",
    "# Print results\n",
    "print(f\"Two-Sample T-Test Results:\")\n",
    "print(f\"T-Statistic: {t_statistic}\")\n",
    "print(f\"P-Value: {p_value}\")\n",
    "\n",
    "# Check for statistical significance at a significance level of 0.05\n",
    "alpha = 0.05\n",
    "if p_value < alpha:\n",
    "    print(\"Reject the null hypothesis. There is evidence of a significant difference.\")\n",
    "else:\n",
    "    print(\"Fail to reject the null hypothesis. There is no significant difference.\")\n"
   ]
  },
  {
   "cell_type": "code",
   "execution_count": null,
   "id": "fd5c01cb-566a-428a-8b54-12811596caad",
   "metadata": {},
   "outputs": [],
   "source": []
  },
  {
   "cell_type": "markdown",
   "id": "70694744-9bdf-4b3b-bfd3-3efaa42be896",
   "metadata": {},
   "source": [
    "Q11: What is Student’s t distribution? When to use the t-Distribution."
   ]
  },
  {
   "cell_type": "markdown",
   "id": "b261d003-2c80-4b10-9fd9-bfa6b247ea9d",
   "metadata": {},
   "source": [
    "**Student’s t-Distribution:**\n",
    "\n",
    "The Student's t-distribution, often referred to simply as the t-distribution, is a probability distribution that arises in the context of estimating the population mean when the sample size is small, and the population standard deviation is unknown. It is used in statistical hypothesis testing and constructing confidence intervals for small sample sizes.\n",
    "\n",
    "The shape of the t-distribution is similar to the standard normal distribution (bell-shaped), but it has heavier tails. As the sample size increases, the t-distribution approaches the standard normal distribution. The t-distribution is characterized by a parameter called degrees of freedom (\\(df\\)), which influences its shape.\n",
    "\n",
    "**Key Characteristics:**\n",
    "- Symmetric and bell-shaped like the normal distribution.\n",
    "- Defined by a single parameter, degrees of freedom (\\(df\\)), which determines the shape of the distribution.\n",
    "- As \\(df\\) increases, the t-distribution approaches the standard normal distribution.\n",
    "\n",
    "**When to Use the t-Distribution:**\n",
    "\n",
    "The t-distribution is used in scenarios where:\n",
    "\n",
    "1. **Small Sample Sizes:**\n",
    "   - When dealing with small sample sizes (typically \\(n < 30\\)) and the population standard deviation is unknown, the t-distribution is more appropriate than the normal distribution for making inferences about the population mean.\n",
    "\n",
    "2. **Unknown Population Standard Deviation:**\n",
    "   - When the population standard deviation (\\(\\sigma\\)) is unknown, and it needs to be estimated from the sample standard deviation (\\(s\\)), the t-distribution is used in constructing confidence intervals and performing hypothesis tests.\n",
    "\n",
    "3. **Estimating Population Mean:**\n",
    "   - In situations where researchers are estimating the population mean based on a small sample, and there is uncertainty about the true value of the population standard deviation, the t-distribution is employed.\n",
    "\n",
    "4. **Hypothesis Testing:**\n",
    "   - For hypothesis testing involving the population mean when the sample size is small, the t-distribution is used to calculate test statistics and determine statistical significance.\n",
    "\n",
    "5. **Constructing Confidence Intervals:**\n",
    "   - When constructing confidence intervals for the population mean with a small sample size and unknown population standard deviation, the t-distribution is used to account for the additional uncertainty introduced by estimating the standard deviation from the sample.\n",
    "\n",
    "**Degrees of Freedom (\\(df\\)):**\n",
    "The degrees of freedom (\\(df\\)) parameter in the t-distribution is a critical factor. It reflects the size of the sample and impacts the shape of the distribution. The larger the degrees of freedom, the closer the t-distribution resembles the standard normal distribution. As the sample size increases, the t-distribution approaches normality.\n",
    "\n",
    "In summary, the t-distribution is employed when working with small sample sizes and uncertainty about the population standard deviation. It is a valuable tool in statistical inference, especially for estimating population parameters and conducting hypothesis tests in situations where the normal distribution may not be appropriate."
   ]
  },
  {
   "cell_type": "code",
   "execution_count": null,
   "id": "6a659623-2777-46b1-b3cd-626bfb8049d2",
   "metadata": {},
   "outputs": [],
   "source": []
  },
  {
   "cell_type": "markdown",
   "id": "981d404e-5c91-41c5-98ce-9ccf0d915e0b",
   "metadata": {},
   "source": [
    "Q12: What is t-statistic? State the formula for t-statistic"
   ]
  },
  {
   "cell_type": "markdown",
   "id": "45c8becc-ca93-4c9c-b578-659fb23100f3",
   "metadata": {},
   "source": [
    "**Q11: What is Student’s t distribution? When to use the t-Distribution:**\n",
    "\n",
    "**Student’s t distribution** (or simply, t-distribution) is a probability distribution that arises in the context of statistical inference when estimating the mean of a normally distributed population, especially when the sample size is small and the population standard deviation is unknown.\n",
    "\n",
    "**Key Characteristics of the t-Distribution:**\n",
    "1. **Shape:** The t-distribution has a shape similar to the normal distribution but has heavier tails.\n",
    "2. **Parameter:** The distribution is characterized by its degrees of freedom (\\(df\\)), which depend on the sample size. As the sample size increases, the t-distribution approaches the standard normal distribution.\n",
    "3. **Symmetry:** Like the normal distribution, the t-distribution is symmetric around its mean.\n",
    "\n",
    "**When to use the t-Distribution:**\n",
    "- **Small Sample Sizes:** It is particularly useful when dealing with small sample sizes (typically when \\(n < 30\\)).\n",
    "- **Unknown Population Standard Deviation:** When the population standard deviation is unknown, and it is estimated from the sample data using the sample standard deviation.\n",
    "\n",
    "**Common Applications:**\n",
    "1. **T-Tests:** In hypothesis testing, especially when comparing means of two groups (independent or paired samples).\n",
    "2. **Confidence Intervals:** Calculating confidence intervals for population parameters (e.g., mean) when the sample size is small and the population standard deviation is unknown.\n",
    "\n",
    "---\n",
    "\n",
    "**Q12: What is t-statistic? State the formula for t-statistic:**\n",
    "\n",
    "The t-statistic is a measure that quantifies how far a sample mean is from the hypothesized population mean in terms of the estimated standard error. It is commonly used in hypothesis testing and constructing confidence intervals.\n",
    "\n",
    "**Formula for t-Statistic:**\n",
    "The t-statistic for a sample mean (\\(\\bar{x}\\)) with a known population standard deviation (\\(\\sigma\\)) is calculated using the following formula:\n",
    "\n",
    "\\[ t = \\frac{(\\bar{x} - \\mu)}{(\\frac{\\sigma}{\\sqrt{n}})} \\]\n",
    "\n",
    "However, in practice, the population standard deviation (\\(\\sigma\\)) is often unknown and replaced by the sample standard deviation (\\(s\\)), leading to the formula for the t-statistic when estimating the mean of a population:\n",
    "\n",
    "\\[ t = \\frac{(\\bar{x} - \\mu)}{(\\frac{s}{\\sqrt{n}})} \\]\n",
    "\n",
    "Where:\n",
    "- \\( \\bar{x} \\) is the sample mean.\n",
    "- \\( \\mu \\) is the hypothesized population mean under the null hypothesis.\n",
    "- \\( s \\) is the sample standard deviation.\n",
    "- \\( n \\) is the sample size.\n",
    "\n",
    "The t-statistic follows a t-distribution with degrees of freedom (\\(df = n-1\\)). Researchers use the t-statistic to assess the evidence against the null hypothesis in hypothesis testing and to calculate confidence intervals."
   ]
  },
  {
   "cell_type": "code",
   "execution_count": null,
   "id": "18fcbc48-529b-4a5a-8848-f0fba9af0038",
   "metadata": {},
   "outputs": [],
   "source": []
  },
  {
   "cell_type": "markdown",
   "id": "52934124-0ff2-4867-ac1e-6147e30022d3",
   "metadata": {},
   "source": [
    "Q13. A coffee shop owner wants to estimate the average daily revenue for their shop. They take a random sample of 50 days and find the sample mean revenue to be $500 with a standard deviation of $50. Estimate the population mean revenue with a 95% confidence interval"
   ]
  },
  {
   "cell_type": "code",
   "execution_count": 13,
   "id": "caeecd9b-000b-4c16-a2c7-8191f6c491fb",
   "metadata": {},
   "outputs": [
    {
     "name": "stdout",
     "output_type": "stream",
     "text": [
      "95% Confidence Interval for the Population Mean Revenue: $485.79 to $514.21\n"
     ]
    }
   ],
   "source": [
    "import scipy.stats as stats\n",
    "import math\n",
    "\n",
    "# Given data\n",
    "sample_mean = 500  # in dollars\n",
    "sample_std = 50    # in dollars\n",
    "sample_size = 50\n",
    "\n",
    "# Degrees of freedom\n",
    "df = sample_size - 1\n",
    "\n",
    "# Confidence level\n",
    "confidence_level = 0.95\n",
    "\n",
    "# Calculate the t-score\n",
    "t_score = stats.t.ppf((1 + confidence_level) / 2, df)\n",
    "\n",
    "# Calculate the margin of error\n",
    "margin_of_error = t_score * (sample_std / math.sqrt(sample_size))\n",
    "\n",
    "# Calculate the confidence interval\n",
    "lower_bound = sample_mean - margin_of_error\n",
    "upper_bound = sample_mean + margin_of_error\n",
    "\n",
    "# Print the results\n",
    "print(f\"95% Confidence Interval for the Population Mean Revenue: ${lower_bound:.2f} to ${upper_bound:.2f}\")\n"
   ]
  },
  {
   "cell_type": "code",
   "execution_count": null,
   "id": "a8929299-ade3-45f8-85f4-9b781280f2a7",
   "metadata": {},
   "outputs": [],
   "source": []
  },
  {
   "cell_type": "code",
   "execution_count": null,
   "id": "4671a936-d288-4ea0-972a-5f2f9a625558",
   "metadata": {},
   "outputs": [],
   "source": []
  }
 ],
 "metadata": {
  "kernelspec": {
   "display_name": "Python 3 (ipykernel)",
   "language": "python",
   "name": "python3"
  },
  "language_info": {
   "codemirror_mode": {
    "name": "ipython",
    "version": 3
   },
   "file_extension": ".py",
   "mimetype": "text/x-python",
   "name": "python",
   "nbconvert_exporter": "python",
   "pygments_lexer": "ipython3",
   "version": "3.10.8"
  }
 },
 "nbformat": 4,
 "nbformat_minor": 5
}
